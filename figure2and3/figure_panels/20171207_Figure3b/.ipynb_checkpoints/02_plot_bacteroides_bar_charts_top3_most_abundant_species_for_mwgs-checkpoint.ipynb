{
 "cells": [
  {
   "cell_type": "code",
   "execution_count": 12,
   "metadata": {
    "collapsed": true
   },
   "outputs": [],
   "source": [
    "# there's a bug in the code that generates the abundance tables, the scientific notation e-XX is converted to e_XX\n",
    "# this needs to be fixed for numbers to be recognized. %%!"
   ]
  },
  {
   "cell_type": "code",
   "execution_count": 13,
   "metadata": {
    "collapsed": true
   },
   "outputs": [],
   "source": [
    "%%bash \n",
    "\n",
    "cat 00_data/distance_1.0_bacteroides_species_abundance.tsv | sed 's/e_/e-/g' | \\\n",
    "sed 's/Horse-/Horse_/g' > 02_bacteroides_species_abundance_modified.tsv"
   ]
  },
  {
   "cell_type": "code",
   "execution_count": 14,
   "metadata": {
    "collapsed": true
   },
   "outputs": [],
   "source": [
    "import pandas as pd\n",
    "from rpy2.robjects import pandas2ri\n",
    "pandas2ri.activate()\n",
    "from collections import Counter\n",
    "import re"
   ]
  },
  {
   "cell_type": "code",
   "execution_count": 15,
   "metadata": {
    "collapsed": false
   },
   "outputs": [
    {
     "name": "stdout",
     "output_type": "stream",
     "text": [
      "The rpy2.ipython extension is already loaded. To reload it, use:\n",
      "  %reload_ext rpy2.ipython\n"
     ]
    }
   ],
   "source": [
    "%load_ext rpy2.ipython"
   ]
  },
  {
   "cell_type": "code",
   "execution_count": 16,
   "metadata": {
    "collapsed": false
   },
   "outputs": [
    {
     "data": {
      "text/html": [
       "<div>\n",
       "<table border=\"1\" class=\"dataframe\">\n",
       "  <thead>\n",
       "    <tr style=\"text-align: right;\">\n",
       "      <th></th>\n",
       "      <th>Breezer_MGWS</th>\n",
       "      <th>Commencal_MGWS</th>\n",
       "      <th>IronHorse_MGWS</th>\n",
       "      <th>Scott_MGWS</th>\n",
       "      <th>V1V9</th>\n",
       "      <th>Scott_V1V9</th>\n",
       "      <th>IronHorse_V1V9</th>\n",
       "      <th>Commencal_V1V9</th>\n",
       "      <th>Breezer_V1V9</th>\n",
       "      <th>V1V3</th>\n",
       "      <th>Scott_V1V3</th>\n",
       "      <th>IronHorse_V1V3</th>\n",
       "      <th>Commencal_V1V3</th>\n",
       "      <th>Breezer_V1V3</th>\n",
       "    </tr>\n",
       "    <tr>\n",
       "      <th>MWGS</th>\n",
       "      <th></th>\n",
       "      <th></th>\n",
       "      <th></th>\n",
       "      <th></th>\n",
       "      <th></th>\n",
       "      <th></th>\n",
       "      <th></th>\n",
       "      <th></th>\n",
       "      <th></th>\n",
       "      <th></th>\n",
       "      <th></th>\n",
       "      <th></th>\n",
       "      <th></th>\n",
       "      <th></th>\n",
       "    </tr>\n",
       "  </thead>\n",
       "  <tbody>\n",
       "    <tr>\n",
       "      <th>Bacteroides barnesiae</th>\n",
       "      <td>0.001319</td>\n",
       "      <td>0.000320</td>\n",
       "      <td>0.000117</td>\n",
       "      <td>0.000458</td>\n",
       "      <td>Missing</td>\n",
       "      <td>0.0</td>\n",
       "      <td>0.0</td>\n",
       "      <td>0.0</td>\n",
       "      <td>0.0</td>\n",
       "      <td>Missing</td>\n",
       "      <td>0.0</td>\n",
       "      <td>0.0</td>\n",
       "      <td>0.0</td>\n",
       "      <td>0.0</td>\n",
       "    </tr>\n",
       "    <tr>\n",
       "      <th>Bacteroides caccae</th>\n",
       "      <td>0.004440</td>\n",
       "      <td>0.001542</td>\n",
       "      <td>0.015670</td>\n",
       "      <td>0.002753</td>\n",
       "      <td>OTU_13</td>\n",
       "      <td>0.0</td>\n",
       "      <td>30.0</td>\n",
       "      <td>0.0</td>\n",
       "      <td>3.0</td>\n",
       "      <td>OTU_15</td>\n",
       "      <td>2.0</td>\n",
       "      <td>63.0</td>\n",
       "      <td>0.0</td>\n",
       "      <td>14.0</td>\n",
       "    </tr>\n",
       "    <tr>\n",
       "      <th>Bacteroides cellulosilyticus</th>\n",
       "      <td>0.003443</td>\n",
       "      <td>0.000139</td>\n",
       "      <td>0.030840</td>\n",
       "      <td>0.000742</td>\n",
       "      <td>OTU_11</td>\n",
       "      <td>0.0</td>\n",
       "      <td>100.0</td>\n",
       "      <td>0.0</td>\n",
       "      <td>0.0</td>\n",
       "      <td>OTU_11</td>\n",
       "      <td>0.0</td>\n",
       "      <td>166.0</td>\n",
       "      <td>0.0</td>\n",
       "      <td>0.0</td>\n",
       "    </tr>\n",
       "    <tr>\n",
       "      <th>Bacteroides clarus</th>\n",
       "      <td>0.000288</td>\n",
       "      <td>0.000142</td>\n",
       "      <td>0.000506</td>\n",
       "      <td>0.001152</td>\n",
       "      <td>Missing</td>\n",
       "      <td>0.0</td>\n",
       "      <td>0.0</td>\n",
       "      <td>0.0</td>\n",
       "      <td>0.0</td>\n",
       "      <td>Missing</td>\n",
       "      <td>0.0</td>\n",
       "      <td>0.0</td>\n",
       "      <td>0.0</td>\n",
       "      <td>0.0</td>\n",
       "    </tr>\n",
       "    <tr>\n",
       "      <th>Bacteroides coprocola</th>\n",
       "      <td>0.003040</td>\n",
       "      <td>0.034990</td>\n",
       "      <td>0.001774</td>\n",
       "      <td>0.004324</td>\n",
       "      <td>OTU_6</td>\n",
       "      <td>0.0</td>\n",
       "      <td>1.0</td>\n",
       "      <td>610.0</td>\n",
       "      <td>4.0</td>\n",
       "      <td>OTU_5</td>\n",
       "      <td>0.0</td>\n",
       "      <td>0.0</td>\n",
       "      <td>405.0</td>\n",
       "      <td>8.0</td>\n",
       "    </tr>\n",
       "  </tbody>\n",
       "</table>\n",
       "</div>"
      ],
      "text/plain": [
       "                              Breezer_MGWS  Commencal_MGWS  IronHorse_MGWS  \\\n",
       "MWGS                                                                         \n",
       "Bacteroides barnesiae             0.001319        0.000320        0.000117   \n",
       "Bacteroides caccae                0.004440        0.001542        0.015670   \n",
       "Bacteroides cellulosilyticus      0.003443        0.000139        0.030840   \n",
       "Bacteroides clarus                0.000288        0.000142        0.000506   \n",
       "Bacteroides coprocola             0.003040        0.034990        0.001774   \n",
       "\n",
       "                              Scott_MGWS     V1V9  Scott_V1V9  IronHorse_V1V9  \\\n",
       "MWGS                                                                            \n",
       "Bacteroides barnesiae           0.000458  Missing         0.0             0.0   \n",
       "Bacteroides caccae              0.002753   OTU_13         0.0            30.0   \n",
       "Bacteroides cellulosilyticus    0.000742   OTU_11         0.0           100.0   \n",
       "Bacteroides clarus              0.001152  Missing         0.0             0.0   \n",
       "Bacteroides coprocola           0.004324    OTU_6         0.0             1.0   \n",
       "\n",
       "                              Commencal_V1V9  Breezer_V1V9     V1V3  \\\n",
       "MWGS                                                                  \n",
       "Bacteroides barnesiae                    0.0           0.0  Missing   \n",
       "Bacteroides caccae                       0.0           3.0   OTU_15   \n",
       "Bacteroides cellulosilyticus             0.0           0.0   OTU_11   \n",
       "Bacteroides clarus                       0.0           0.0  Missing   \n",
       "Bacteroides coprocola                  610.0           4.0    OTU_5   \n",
       "\n",
       "                              Scott_V1V3  IronHorse_V1V3  Commencal_V1V3  \\\n",
       "MWGS                                                                       \n",
       "Bacteroides barnesiae                0.0             0.0             0.0   \n",
       "Bacteroides caccae                   2.0            63.0             0.0   \n",
       "Bacteroides cellulosilyticus         0.0           166.0             0.0   \n",
       "Bacteroides clarus                   0.0             0.0             0.0   \n",
       "Bacteroides coprocola                0.0             0.0           405.0   \n",
       "\n",
       "                              Breezer_V1V3  \n",
       "MWGS                                        \n",
       "Bacteroides barnesiae                  0.0  \n",
       "Bacteroides caccae                    14.0  \n",
       "Bacteroides cellulosilyticus           0.0  \n",
       "Bacteroides clarus                     0.0  \n",
       "Bacteroides coprocola                  8.0  "
      ]
     },
     "execution_count": 16,
     "metadata": {},
     "output_type": "execute_result"
    }
   ],
   "source": [
    "# Fetch the corrected table and drop the non-numeric columns\n",
    "df = pd.read_table('02_bacteroides_species_abundance_modified.tsv', index_col=0)\n",
    "df.head()"
   ]
  },
  {
   "cell_type": "code",
   "execution_count": 17,
   "metadata": {
    "collapsed": false
   },
   "outputs": [],
   "source": [
    "# reset index to contain unique identifiers for the OTUs that were missing from mWGS data and drop columns\n",
    "new_index = []\n",
    "for row in df.iterrows():\n",
    "    if row[0] == 'Missing':\n",
    "        if row[1]['V1V3'] != 'Missing':\n",
    "            new_index.append('V1V3_' + row[1]['V1V3'])\n",
    "        else:\n",
    "            new_index.append('V1V9_' + row[1]['V1V9'])\n",
    "    else:\n",
    "        new_index.append(row[0])\n",
    "df.index = new_index\n",
    "df = df.drop(['V1V3', 'V1V9'], axis=1)"
   ]
  },
  {
   "cell_type": "code",
   "execution_count": 18,
   "metadata": {
    "collapsed": false
   },
   "outputs": [],
   "source": [
    "# How to normalize row values in a pandas dataframe \n",
    "df = df.div(df.sum(axis=0), axis=1)"
   ]
  },
  {
   "cell_type": "code",
   "execution_count": 19,
   "metadata": {
    "collapsed": false
   },
   "outputs": [
    {
     "name": "stdout",
     "output_type": "stream",
     "text": [
      "Bacteroides intestinalis 1\n",
      "Bacteroides coprocola 1\n",
      "Bacteroides eggerthii 1\n",
      "Bacteroides uniformis 1\n",
      "Bacteroides cellulosilyticus 1\n",
      "Bacteroides massiliensis 1\n",
      "Bacteroides stercoris 1\n",
      "Bacteroides dorei 2\n",
      "Bacteroides vulgatus 3\n"
     ]
    },
    {
     "name": "stderr",
     "output_type": "stream",
     "text": [
      "/Users/johnsj/apps/apps/Python-2.7.10/lib/python2.7/site-packages/ipykernel/__main__.py:5: FutureWarning: order is deprecated, use sort_values(...)\n"
     ]
    }
   ],
   "source": [
    "# Select the top three most abundant taxa in each sample for mWGS data\n",
    "species = []\n",
    "\n",
    "for name in ['Breezer', 'Commencal', 'IronHorse', 'Scott']:\n",
    "    mwgs = df[name +'_MGWS'].order(ascending=False)\n",
    "    m = list(mwgs[:3].index)\n",
    "    species.extend(m)\n",
    "    \n",
    "for k, v in Counter(species).items():\n",
    "    print k, v"
   ]
  },
  {
   "cell_type": "code",
   "execution_count": 20,
   "metadata": {
    "collapsed": false
   },
   "outputs": [],
   "source": [
    "# Subset only those taxa that are in the top three most abundant for one or more sample as quantified by mWGS\n",
    "dfm = df[df.index.isin(species)]\n",
    "dfm.index.name = 'MWGS'\n",
    "dfm.reset_index(inplace=True)"
   ]
  },
  {
   "cell_type": "code",
   "execution_count": 21,
   "metadata": {
    "collapsed": false
   },
   "outputs": [
    {
     "data": {
      "text/html": [
       "<div>\n",
       "<table border=\"1\" class=\"dataframe\">\n",
       "  <thead>\n",
       "    <tr style=\"text-align: right;\">\n",
       "      <th></th>\n",
       "      <th>MWGS</th>\n",
       "      <th>Breezer_MGWS</th>\n",
       "      <th>Commencal_MGWS</th>\n",
       "      <th>IronHorse_MGWS</th>\n",
       "      <th>Scott_MGWS</th>\n",
       "      <th>Scott_V1V9</th>\n",
       "      <th>IronHorse_V1V9</th>\n",
       "      <th>Commencal_V1V9</th>\n",
       "      <th>Breezer_V1V9</th>\n",
       "      <th>Scott_V1V3</th>\n",
       "      <th>IronHorse_V1V3</th>\n",
       "      <th>Commencal_V1V3</th>\n",
       "      <th>Breezer_V1V3</th>\n",
       "    </tr>\n",
       "  </thead>\n",
       "  <tbody>\n",
       "    <tr>\n",
       "      <th>0</th>\n",
       "      <td>Bacteroides cellulosilyticus</td>\n",
       "      <td>0.014835</td>\n",
       "      <td>0.000870</td>\n",
       "      <td>0.069581</td>\n",
       "      <td>0.001033</td>\n",
       "      <td>0.000000</td>\n",
       "      <td>0.023315</td>\n",
       "      <td>0.000000</td>\n",
       "      <td>0.000000</td>\n",
       "      <td>0.000000</td>\n",
       "      <td>0.060895</td>\n",
       "      <td>0.000000</td>\n",
       "      <td>0.000000</td>\n",
       "    </tr>\n",
       "    <tr>\n",
       "      <th>1</th>\n",
       "      <td>Bacteroides coprocola</td>\n",
       "      <td>0.013099</td>\n",
       "      <td>0.218619</td>\n",
       "      <td>0.004002</td>\n",
       "      <td>0.006022</td>\n",
       "      <td>0.000000</td>\n",
       "      <td>0.000233</td>\n",
       "      <td>0.462121</td>\n",
       "      <td>0.003972</td>\n",
       "      <td>0.000000</td>\n",
       "      <td>0.000000</td>\n",
       "      <td>0.216346</td>\n",
       "      <td>0.008820</td>\n",
       "    </tr>\n",
       "    <tr>\n",
       "      <th>2</th>\n",
       "      <td>Bacteroides dorei</td>\n",
       "      <td>0.015968</td>\n",
       "      <td>0.131584</td>\n",
       "      <td>0.015888</td>\n",
       "      <td>0.074581</td>\n",
       "      <td>0.139045</td>\n",
       "      <td>0.000000</td>\n",
       "      <td>0.370455</td>\n",
       "      <td>0.001986</td>\n",
       "      <td>0.118603</td>\n",
       "      <td>0.000000</td>\n",
       "      <td>0.182158</td>\n",
       "      <td>0.014333</td>\n",
       "    </tr>\n",
       "    <tr>\n",
       "      <th>3</th>\n",
       "      <td>Bacteroides eggerthii</td>\n",
       "      <td>0.194671</td>\n",
       "      <td>0.002583</td>\n",
       "      <td>0.005043</td>\n",
       "      <td>0.005327</td>\n",
       "      <td>0.000000</td>\n",
       "      <td>0.000000</td>\n",
       "      <td>0.000000</td>\n",
       "      <td>0.412115</td>\n",
       "      <td>0.000203</td>\n",
       "      <td>0.000000</td>\n",
       "      <td>0.000000</td>\n",
       "      <td>0.274531</td>\n",
       "    </tr>\n",
       "    <tr>\n",
       "      <th>4</th>\n",
       "      <td>Bacteroides intestinalis</td>\n",
       "      <td>0.148610</td>\n",
       "      <td>0.001050</td>\n",
       "      <td>0.002775</td>\n",
       "      <td>0.001088</td>\n",
       "      <td>0.000000</td>\n",
       "      <td>0.000000</td>\n",
       "      <td>0.000000</td>\n",
       "      <td>0.354518</td>\n",
       "      <td>0.000000</td>\n",
       "      <td>0.000000</td>\n",
       "      <td>0.000000</td>\n",
       "      <td>0.000000</td>\n",
       "    </tr>\n",
       "  </tbody>\n",
       "</table>\n",
       "</div>"
      ],
      "text/plain": [
       "                           MWGS  Breezer_MGWS  Commencal_MGWS  IronHorse_MGWS  \\\n",
       "0  Bacteroides cellulosilyticus      0.014835        0.000870        0.069581   \n",
       "1         Bacteroides coprocola      0.013099        0.218619        0.004002   \n",
       "2             Bacteroides dorei      0.015968        0.131584        0.015888   \n",
       "3         Bacteroides eggerthii      0.194671        0.002583        0.005043   \n",
       "4      Bacteroides intestinalis      0.148610        0.001050        0.002775   \n",
       "\n",
       "   Scott_MGWS  Scott_V1V9  IronHorse_V1V9  Commencal_V1V9  Breezer_V1V9  \\\n",
       "0    0.001033    0.000000        0.023315        0.000000      0.000000   \n",
       "1    0.006022    0.000000        0.000233        0.462121      0.003972   \n",
       "2    0.074581    0.139045        0.000000        0.370455      0.001986   \n",
       "3    0.005327    0.000000        0.000000        0.000000      0.412115   \n",
       "4    0.001088    0.000000        0.000000        0.000000      0.354518   \n",
       "\n",
       "   Scott_V1V3  IronHorse_V1V3  Commencal_V1V3  Breezer_V1V3  \n",
       "0    0.000000        0.060895        0.000000      0.000000  \n",
       "1    0.000000        0.000000        0.216346      0.008820  \n",
       "2    0.118603        0.000000        0.182158      0.014333  \n",
       "3    0.000203        0.000000        0.000000      0.274531  \n",
       "4    0.000000        0.000000        0.000000      0.000000  "
      ]
     },
     "execution_count": 21,
     "metadata": {},
     "output_type": "execute_result"
    }
   ],
   "source": [
    "dfm.head()"
   ]
  },
  {
   "cell_type": "code",
   "execution_count": 22,
   "metadata": {
    "collapsed": false
   },
   "outputs": [],
   "source": [
    "dfm = pd.melt(dfm, id_vars=['MWGS'])"
   ]
  },
  {
   "cell_type": "code",
   "execution_count": 23,
   "metadata": {
    "collapsed": false
   },
   "outputs": [
    {
     "data": {
      "text/html": [
       "<div>\n",
       "<table border=\"1\" class=\"dataframe\">\n",
       "  <thead>\n",
       "    <tr style=\"text-align: right;\">\n",
       "      <th></th>\n",
       "      <th>MWGS</th>\n",
       "      <th>variable</th>\n",
       "      <th>value</th>\n",
       "    </tr>\n",
       "  </thead>\n",
       "  <tbody>\n",
       "    <tr>\n",
       "      <th>0</th>\n",
       "      <td>Bacteroides cellulosilyticus</td>\n",
       "      <td>Breezer_MGWS</td>\n",
       "      <td>0.014835</td>\n",
       "    </tr>\n",
       "    <tr>\n",
       "      <th>1</th>\n",
       "      <td>Bacteroides coprocola</td>\n",
       "      <td>Breezer_MGWS</td>\n",
       "      <td>0.013099</td>\n",
       "    </tr>\n",
       "    <tr>\n",
       "      <th>2</th>\n",
       "      <td>Bacteroides dorei</td>\n",
       "      <td>Breezer_MGWS</td>\n",
       "      <td>0.015968</td>\n",
       "    </tr>\n",
       "    <tr>\n",
       "      <th>3</th>\n",
       "      <td>Bacteroides eggerthii</td>\n",
       "      <td>Breezer_MGWS</td>\n",
       "      <td>0.194671</td>\n",
       "    </tr>\n",
       "    <tr>\n",
       "      <th>4</th>\n",
       "      <td>Bacteroides intestinalis</td>\n",
       "      <td>Breezer_MGWS</td>\n",
       "      <td>0.148610</td>\n",
       "    </tr>\n",
       "  </tbody>\n",
       "</table>\n",
       "</div>"
      ],
      "text/plain": [
       "                           MWGS      variable     value\n",
       "0  Bacteroides cellulosilyticus  Breezer_MGWS  0.014835\n",
       "1         Bacteroides coprocola  Breezer_MGWS  0.013099\n",
       "2             Bacteroides dorei  Breezer_MGWS  0.015968\n",
       "3         Bacteroides eggerthii  Breezer_MGWS  0.194671\n",
       "4      Bacteroides intestinalis  Breezer_MGWS  0.148610"
      ]
     },
     "execution_count": 23,
     "metadata": {},
     "output_type": "execute_result"
    }
   ],
   "source": [
    "dfm.head()"
   ]
  },
  {
   "cell_type": "code",
   "execution_count": 24,
   "metadata": {
    "collapsed": false
   },
   "outputs": [
    {
     "data": {
      "text/html": [
       "<div>\n",
       "<table border=\"1\" class=\"dataframe\">\n",
       "  <thead>\n",
       "    <tr style=\"text-align: right;\">\n",
       "      <th></th>\n",
       "      <th>value</th>\n",
       "      <th>platform</th>\n",
       "      <th>sample</th>\n",
       "      <th>species</th>\n",
       "    </tr>\n",
       "  </thead>\n",
       "  <tbody>\n",
       "    <tr>\n",
       "      <th>0</th>\n",
       "      <td>0.014835</td>\n",
       "      <td>MWGS</td>\n",
       "      <td>Breezer</td>\n",
       "      <td>B. cellulosilyticus</td>\n",
       "    </tr>\n",
       "    <tr>\n",
       "      <th>1</th>\n",
       "      <td>0.013099</td>\n",
       "      <td>MWGS</td>\n",
       "      <td>Breezer</td>\n",
       "      <td>B. coprocola</td>\n",
       "    </tr>\n",
       "    <tr>\n",
       "      <th>2</th>\n",
       "      <td>0.015968</td>\n",
       "      <td>MWGS</td>\n",
       "      <td>Breezer</td>\n",
       "      <td>B. dorei</td>\n",
       "    </tr>\n",
       "    <tr>\n",
       "      <th>3</th>\n",
       "      <td>0.194671</td>\n",
       "      <td>MWGS</td>\n",
       "      <td>Breezer</td>\n",
       "      <td>B. eggerthii</td>\n",
       "    </tr>\n",
       "    <tr>\n",
       "      <th>4</th>\n",
       "      <td>0.148610</td>\n",
       "      <td>MWGS</td>\n",
       "      <td>Breezer</td>\n",
       "      <td>B. intestinalis</td>\n",
       "    </tr>\n",
       "  </tbody>\n",
       "</table>\n",
       "</div>"
      ],
      "text/plain": [
       "      value platform   sample              species\n",
       "0  0.014835     MWGS  Breezer  B. cellulosilyticus\n",
       "1  0.013099     MWGS  Breezer         B. coprocola\n",
       "2  0.015968     MWGS  Breezer             B. dorei\n",
       "3  0.194671     MWGS  Breezer         B. eggerthii\n",
       "4  0.148610     MWGS  Breezer      B. intestinalis"
      ]
     },
     "execution_count": 24,
     "metadata": {},
     "output_type": "execute_result"
    }
   ],
   "source": [
    "# clean up table\n",
    "sample = [x.split('_')[0] for x in dfm['variable']]\n",
    "platform = [x.split('_')[1] for x in dfm['variable']]\n",
    "platform = ['MWGS' if x == 'MGWS' else x for x in platform ]\n",
    "species = [re.sub('Bacteroides', 'B.', x) for x in dfm['MWGS']]\n",
    "platform\n",
    "dfm['platform'] = platform\n",
    "dfm['sample'] = sample\n",
    "dfm['species'] = species\n",
    "dfm = dfm.drop(['variable', 'MWGS'], axis=1)\n",
    "dfm.head()"
   ]
  },
  {
   "cell_type": "code",
   "execution_count": 25,
   "metadata": {
    "collapsed": false
   },
   "outputs": [],
   "source": [
    "%Rpush dfm"
   ]
  },
  {
   "cell_type": "code",
   "execution_count": 26,
   "metadata": {
    "collapsed": false
   },
   "outputs": [],
   "source": [
    "%%R \n",
    "library('ggplot2')"
   ]
  },
  {
   "cell_type": "code",
   "execution_count": 27,
   "metadata": {
    "collapsed": false
   },
   "outputs": [
    {
     "data": {
      "image/png": "[encoded data removed]"
     },
     "metadata": {},
     "output_type": "display_data"
    }
   ],
   "source": [
    "%%R\n",
    "\n",
    "pl <- ggplot(dfm, aes(x=species, y=value, fill=platform)) + geom_bar(stat='identity', position='dodge')\n",
    "pl <- pl + facet_wrap(~sample, ncol=1)\n",
    "pl <- pl + theme_bw()\n",
    "pl <- pl + theme(axis.text.x = element_text(angle = 90, hjust = 1))\n",
    "pl <- pl + ylab('Proportion of Bacteroides reads') + xlab(\"\")\n",
    "plot(pl)"
   ]
  },
  {
   "cell_type": "code",
   "execution_count": 28,
   "metadata": {
    "collapsed": false
   },
   "outputs": [
    {
     "data": {
      "text/plain": [
       "quartz_off_screen \n",
       "                2 \n"
      ]
     },
     "metadata": {},
     "output_type": "display_data"
    }
   ],
   "source": [
    "%%R\n",
    "pdf('02_BarChart_proportion_of_bacteroides_reads.pdf', width=5, height=6)\n",
    "plot(pl)\n",
    "dev.off()"
   ]
  }
 ],
 "metadata": {
  "kernelspec": {
   "display_name": "Python 2",
   "language": "python",
   "name": "python2"
  },
  "language_info": {
   "codemirror_mode": {
    "name": "ipython",
    "version": 2
   },
   "file_extension": ".py",
   "mimetype": "text/x-python",
   "name": "python",
   "nbconvert_exporter": "python",
   "pygments_lexer": "ipython2",
   "version": "2.7.10"
  }
 },
 "nbformat": 4,
 "nbformat_minor": 0
}
