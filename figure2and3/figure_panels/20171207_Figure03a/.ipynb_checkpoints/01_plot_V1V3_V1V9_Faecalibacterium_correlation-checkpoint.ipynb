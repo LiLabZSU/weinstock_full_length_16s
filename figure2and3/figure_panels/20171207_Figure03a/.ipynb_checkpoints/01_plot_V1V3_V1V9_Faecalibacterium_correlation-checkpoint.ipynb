{
 "cells": [
  {
   "cell_type": "code",
   "execution_count": 1,
   "metadata": {
    "collapsed": true
   },
   "outputs": [],
   "source": [
    "import pandas as pd"
   ]
  },
  {
   "cell_type": "code",
   "execution_count": 2,
   "metadata": {
    "collapsed": false
   },
   "outputs": [
    {
     "data": {
      "text/html": [
       "<div>\n",
       "<table border=\"1\" class=\"dataframe\">\n",
       "  <thead>\n",
       "    <tr style=\"text-align: right;\">\n",
       "      <th></th>\n",
       "      <th>J03630_V1_V3</th>\n",
       "      <th>J03631_V1_V3</th>\n",
       "      <th>J03632_V1_V3</th>\n",
       "      <th>J03644_V1_V3</th>\n",
       "      <th>J03630_V1_V9</th>\n",
       "      <th>J03631_V1_V9</th>\n",
       "      <th>J03632_V1_V9</th>\n",
       "      <th>J03644_V1_V9</th>\n",
       "    </tr>\n",
       "    <tr>\n",
       "      <th>Genus</th>\n",
       "      <th></th>\n",
       "      <th></th>\n",
       "      <th></th>\n",
       "      <th></th>\n",
       "      <th></th>\n",
       "      <th></th>\n",
       "      <th></th>\n",
       "      <th></th>\n",
       "    </tr>\n",
       "  </thead>\n",
       "  <tbody>\n",
       "    <tr>\n",
       "      <th>02d06</th>\n",
       "      <td>0.0</td>\n",
       "      <td>7.0</td>\n",
       "      <td>0.0</td>\n",
       "      <td>0.0</td>\n",
       "      <td>0.0</td>\n",
       "      <td>0.0</td>\n",
       "      <td>0.0</td>\n",
       "      <td>0.0</td>\n",
       "    </tr>\n",
       "    <tr>\n",
       "      <th>Adlercreutzia</th>\n",
       "      <td>7.0</td>\n",
       "      <td>0.0</td>\n",
       "      <td>0.0</td>\n",
       "      <td>0.0</td>\n",
       "      <td>0.0</td>\n",
       "      <td>0.0</td>\n",
       "      <td>0.0</td>\n",
       "      <td>0.0</td>\n",
       "    </tr>\n",
       "    <tr>\n",
       "      <th>Akkermansia</th>\n",
       "      <td>1.0</td>\n",
       "      <td>22.0</td>\n",
       "      <td>211.0</td>\n",
       "      <td>566.0</td>\n",
       "      <td>0.0</td>\n",
       "      <td>57.0</td>\n",
       "      <td>776.0</td>\n",
       "      <td>4710.0</td>\n",
       "    </tr>\n",
       "    <tr>\n",
       "      <th>Alistipes</th>\n",
       "      <td>2.0</td>\n",
       "      <td>274.0</td>\n",
       "      <td>149.0</td>\n",
       "      <td>49.0</td>\n",
       "      <td>0.0</td>\n",
       "      <td>474.0</td>\n",
       "      <td>176.0</td>\n",
       "      <td>67.0</td>\n",
       "    </tr>\n",
       "    <tr>\n",
       "      <th>Anaerostipes</th>\n",
       "      <td>0.0</td>\n",
       "      <td>3.0</td>\n",
       "      <td>3.0</td>\n",
       "      <td>11.0</td>\n",
       "      <td>0.0</td>\n",
       "      <td>0.0</td>\n",
       "      <td>0.0</td>\n",
       "      <td>0.0</td>\n",
       "    </tr>\n",
       "  </tbody>\n",
       "</table>\n",
       "</div>"
      ],
      "text/plain": [
       "               J03630_V1_V3  J03631_V1_V3  J03632_V1_V3  J03644_V1_V3  \\\n",
       "Genus                                                                   \n",
       "02d06                   0.0           7.0           0.0           0.0   \n",
       "Adlercreutzia           7.0           0.0           0.0           0.0   \n",
       "Akkermansia             1.0          22.0         211.0         566.0   \n",
       "Alistipes               2.0         274.0         149.0          49.0   \n",
       "Anaerostipes            0.0           3.0           3.0          11.0   \n",
       "\n",
       "               J03630_V1_V9  J03631_V1_V9  J03632_V1_V9  J03644_V1_V9  \n",
       "Genus                                                                  \n",
       "02d06                   0.0           0.0           0.0           0.0  \n",
       "Adlercreutzia           0.0           0.0           0.0           0.0  \n",
       "Akkermansia             0.0          57.0         776.0        4710.0  \n",
       "Alistipes               0.0         474.0         176.0          67.0  \n",
       "Anaerostipes            0.0           0.0           0.0           0.0  "
      ]
     },
     "execution_count": 2,
     "metadata": {},
     "output_type": "execute_result"
    }
   ],
   "source": [
    "# Read in the table... NA values occur for gener that were absent from V1V3 or V1V9 data, but not both. \n",
    "df = pd.read_table('00_data/amp_distance_1.0_genus_correlations.txt', index_col=0)\n",
    "# convert the NA values to 0\n",
    "df = df.fillna(value=0)\n",
    "df.head()"
   ]
  },
  {
   "cell_type": "code",
   "execution_count": 3,
   "metadata": {
    "collapsed": false
   },
   "outputs": [
    {
     "data": {
      "text/html": [
       "<div>\n",
       "<table border=\"1\" class=\"dataframe\">\n",
       "  <thead>\n",
       "    <tr style=\"text-align: right;\">\n",
       "      <th></th>\n",
       "      <th>J03630_V1_V3</th>\n",
       "      <th>J03631_V1_V3</th>\n",
       "      <th>J03632_V1_V3</th>\n",
       "      <th>J03644_V1_V3</th>\n",
       "      <th>J03630_V1_V9</th>\n",
       "      <th>J03631_V1_V9</th>\n",
       "      <th>J03632_V1_V9</th>\n",
       "      <th>J03644_V1_V9</th>\n",
       "    </tr>\n",
       "    <tr>\n",
       "      <th>Genus</th>\n",
       "      <th></th>\n",
       "      <th></th>\n",
       "      <th></th>\n",
       "      <th></th>\n",
       "      <th></th>\n",
       "      <th></th>\n",
       "      <th></th>\n",
       "      <th></th>\n",
       "    </tr>\n",
       "  </thead>\n",
       "  <tbody>\n",
       "    <tr>\n",
       "      <th>02d06</th>\n",
       "      <td>0.000000</td>\n",
       "      <td>0.136906</td>\n",
       "      <td>0.000000</td>\n",
       "      <td>0.000000</td>\n",
       "      <td>0.0</td>\n",
       "      <td>0.000000</td>\n",
       "      <td>0.000000</td>\n",
       "      <td>0.000000</td>\n",
       "    </tr>\n",
       "    <tr>\n",
       "      <th>Adlercreutzia</th>\n",
       "      <td>0.118183</td>\n",
       "      <td>0.000000</td>\n",
       "      <td>0.000000</td>\n",
       "      <td>0.000000</td>\n",
       "      <td>0.0</td>\n",
       "      <td>0.000000</td>\n",
       "      <td>0.000000</td>\n",
       "      <td>0.000000</td>\n",
       "    </tr>\n",
       "    <tr>\n",
       "      <th>Akkermansia</th>\n",
       "      <td>0.016883</td>\n",
       "      <td>0.430276</td>\n",
       "      <td>4.379411</td>\n",
       "      <td>14.686040</td>\n",
       "      <td>0.0</td>\n",
       "      <td>0.585276</td>\n",
       "      <td>7.705292</td>\n",
       "      <td>43.748839</td>\n",
       "    </tr>\n",
       "    <tr>\n",
       "      <th>Alistipes</th>\n",
       "      <td>0.033767</td>\n",
       "      <td>5.358889</td>\n",
       "      <td>3.092570</td>\n",
       "      <td>1.271406</td>\n",
       "      <td>0.0</td>\n",
       "      <td>4.867029</td>\n",
       "      <td>1.747592</td>\n",
       "      <td>0.622330</td>\n",
       "    </tr>\n",
       "    <tr>\n",
       "      <th>Anaerostipes</th>\n",
       "      <td>0.000000</td>\n",
       "      <td>0.058674</td>\n",
       "      <td>0.062267</td>\n",
       "      <td>0.285418</td>\n",
       "      <td>0.0</td>\n",
       "      <td>0.000000</td>\n",
       "      <td>0.000000</td>\n",
       "      <td>0.000000</td>\n",
       "    </tr>\n",
       "  </tbody>\n",
       "</table>\n",
       "</div>"
      ],
      "text/plain": [
       "               J03630_V1_V3  J03631_V1_V3  J03632_V1_V3  J03644_V1_V3  \\\n",
       "Genus                                                                   \n",
       "02d06              0.000000      0.136906      0.000000      0.000000   \n",
       "Adlercreutzia      0.118183      0.000000      0.000000      0.000000   \n",
       "Akkermansia        0.016883      0.430276      4.379411     14.686040   \n",
       "Alistipes          0.033767      5.358889      3.092570      1.271406   \n",
       "Anaerostipes       0.000000      0.058674      0.062267      0.285418   \n",
       "\n",
       "               J03630_V1_V9  J03631_V1_V9  J03632_V1_V9  J03644_V1_V9  \n",
       "Genus                                                                  \n",
       "02d06                   0.0      0.000000      0.000000      0.000000  \n",
       "Adlercreutzia           0.0      0.000000      0.000000      0.000000  \n",
       "Akkermansia             0.0      0.585276      7.705292     43.748839  \n",
       "Alistipes               0.0      4.867029      1.747592      0.622330  \n",
       "Anaerostipes            0.0      0.000000      0.000000      0.000000  "
      ]
     },
     "execution_count": 3,
     "metadata": {},
     "output_type": "execute_result"
    }
   ],
   "source": [
    "# Normalize the data\n",
    "df = df.div(df.sum(axis=0)).multiply(100)\n",
    "df.head()"
   ]
  },
  {
   "cell_type": "code",
   "execution_count": 5,
   "metadata": {
    "collapsed": false
   },
   "outputs": [
    {
     "data": {
      "text/plain": [
       "Genus\n",
       "SMB53                      0.103778\n",
       "Adlercreutzia              0.118183\n",
       "Streptococcus              0.125117\n",
       "02d06                      0.136906\n",
       "Oxalobacter                0.155682\n",
       "Cloacibacillus             0.181629\n",
       "Lachnobacterium            0.183404\n",
       "Desulfovibrio              0.319039\n",
       "Collinsella                0.359473\n",
       "Anaerostipes               0.406358\n",
       "cc_115                     0.712949\n",
       "Dorea                      0.956226\n",
       "Catenibacterium            0.968626\n",
       "Escherichia                2.128288\n",
       "Lachnospira                4.028806\n",
       "Blautia                    4.473238\n",
       "Odoribacter                5.625553\n",
       "Clostridium                6.699048\n",
       "Paraprevotella             6.898881\n",
       "Subdoligranulum            7.945625\n",
       "Phascolarctobacterium      9.159017\n",
       "Coprococcus               10.637323\n",
       "Dialister                 12.784284\n",
       "Roseburia                 13.231109\n",
       "Oscillospira              13.805414\n",
       "Alistipes                 16.993583\n",
       "Ruminococcus              20.586051\n",
       "Sutterella                20.990761\n",
       "Parabacteroides           28.825972\n",
       "Prevotella                38.721396\n",
       "Akkermansia               71.552017\n",
       "Faecalibacterium          84.910651\n",
       "unclassified             140.633414\n",
       "Bacteroides              274.642196\n",
       "dtype: float64"
      ]
     },
     "execution_count": 5,
     "metadata": {},
     "output_type": "execute_result"
    }
   ],
   "source": [
    "df.sum(axis=1).sort_values()"
   ]
  },
  {
   "cell_type": "code",
   "execution_count": 6,
   "metadata": {
    "collapsed": false
   },
   "outputs": [
    {
     "data": {
      "text/plain": [
       "J03630    11.126119\n",
       "J03631    11.754352\n",
       "J03632     8.219178\n",
       "J03644     8.536585\n",
       "Name: V1_V3, dtype: float64"
      ]
     },
     "execution_count": 6,
     "metadata": {},
     "output_type": "execute_result"
    }
   ],
   "source": [
    "# Fetch the V1-V3 reads\n",
    "v1v3 = df.filter(like='V1_V3').loc['Faecalibacterium',]\n",
    "v1v3.index = [x.split('_')[0] for x in v1v3.index]\n",
    "v1v3.name = 'V1_V3'\n",
    "v1v3"
   ]
  },
  {
   "cell_type": "code",
   "execution_count": 7,
   "metadata": {
    "collapsed": false
   },
   "outputs": [
    {
     "data": {
      "text/plain": [
       "J03630    19.980695\n",
       "J03631    13.030085\n",
       "J03632     6.086784\n",
       "J03644     6.176853\n",
       "Name: V1_V9, dtype: float64"
      ]
     },
     "execution_count": 7,
     "metadata": {},
     "output_type": "execute_result"
    }
   ],
   "source": [
    "v1v9 = df.filter(like='V1_V9').loc['Faecalibacterium',]\n",
    "v1v9.index = [x.split('_')[0] for x in v1v9.index]\n",
    "v1v9.name = 'V1_V9'\n",
    "v1v9"
   ]
  },
  {
   "cell_type": "code",
   "execution_count": 8,
   "metadata": {
    "collapsed": false
   },
   "outputs": [
    {
     "data": {
      "text/html": [
       "<div>\n",
       "<table border=\"1\" class=\"dataframe\">\n",
       "  <thead>\n",
       "    <tr style=\"text-align: right;\">\n",
       "      <th></th>\n",
       "      <th>V1_V9</th>\n",
       "      <th>V1_V3</th>\n",
       "    </tr>\n",
       "  </thead>\n",
       "  <tbody>\n",
       "    <tr>\n",
       "      <th>Scott</th>\n",
       "      <td>19.980695</td>\n",
       "      <td>11.126119</td>\n",
       "    </tr>\n",
       "    <tr>\n",
       "      <th>IronHorse</th>\n",
       "      <td>13.030085</td>\n",
       "      <td>11.754352</td>\n",
       "    </tr>\n",
       "    <tr>\n",
       "      <th>Commencal</th>\n",
       "      <td>6.086784</td>\n",
       "      <td>8.219178</td>\n",
       "    </tr>\n",
       "    <tr>\n",
       "      <th>Breezer</th>\n",
       "      <td>6.176853</td>\n",
       "      <td>8.536585</td>\n",
       "    </tr>\n",
       "  </tbody>\n",
       "</table>\n",
       "</div>"
      ],
      "text/plain": [
       "               V1_V9      V1_V3\n",
       "Scott      19.980695  11.126119\n",
       "IronHorse  13.030085  11.754352\n",
       "Commencal   6.086784   8.219178\n",
       "Breezer     6.176853   8.536585"
      ]
     },
     "execution_count": 8,
     "metadata": {},
     "output_type": "execute_result"
    }
   ],
   "source": [
    "df_b = pd.DataFrame([v1v9, v1v3]).T\n",
    "df_b.index = ['Scott', 'IronHorse', 'Commencal', 'Breezer']\n",
    "df_b"
   ]
  },
  {
   "cell_type": "code",
   "execution_count": 9,
   "metadata": {
    "collapsed": true
   },
   "outputs": [],
   "source": [
    "% load_ext rpy2.ipython"
   ]
  },
  {
   "cell_type": "code",
   "execution_count": 10,
   "metadata": {
    "collapsed": true
   },
   "outputs": [],
   "source": [
    "from rpy2.robjects import pandas2ri\n",
    "pandas2ri.activate()"
   ]
  },
  {
   "cell_type": "code",
   "execution_count": 11,
   "metadata": {
    "collapsed": true
   },
   "outputs": [],
   "source": [
    "%Rpush df_b"
   ]
  },
  {
   "cell_type": "code",
   "execution_count": 13,
   "metadata": {
    "collapsed": true
   },
   "outputs": [],
   "source": [
    "%%R\n",
    "library('ggplot2')"
   ]
  },
  {
   "cell_type": "code",
   "execution_count": 15,
   "metadata": {
    "collapsed": false
   },
   "outputs": [
    {
     "data": {
      "image/png": "[encoded data removed]"
     },
     "metadata": {},
     "output_type": "display_data"
    }
   ],
   "source": [
    "%%R \n",
    "pl <- ggplot(df_b, aes(x=V1_V9, y=V1_V3, label=rownames(df_b))) + geom_point() + geom_abline(intercept=0, lty=2)\n",
    "pl <- pl + geom_text(hjust=0, vjust=0)\n",
    "pl <- pl + xlim(0, 30) + ylim(0, 30)\n",
    "pl <- pl + xlab('V1-V9 Faecalibacterium Abundance (%)')\n",
    "pl <- pl + ylab('V1-V3 Faecalibacterium Abundance (%)')\n",
    "pl <- pl + theme_bw()\n",
    "pl"
   ]
  },
  {
   "cell_type": "code",
   "execution_count": null,
   "metadata": {
    "collapsed": true
   },
   "outputs": [],
   "source": []
  }
 ],
 "metadata": {
  "kernelspec": {
   "display_name": "Python 2",
   "language": "python",
   "name": "python2"
  },
  "language_info": {
   "codemirror_mode": {
    "name": "ipython",
    "version": 2
   },
   "file_extension": ".py",
   "mimetype": "text/x-python",
   "name": "python",
   "nbconvert_exporter": "python",
   "pygments_lexer": "ipython2",
   "version": "2.7.10"
  }
 },
 "nbformat": 4,
 "nbformat_minor": 0
}
