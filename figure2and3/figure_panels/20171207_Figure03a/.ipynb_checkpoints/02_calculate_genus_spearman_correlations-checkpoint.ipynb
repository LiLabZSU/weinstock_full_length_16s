{
 "cells": [
  {
   "cell_type": "code",
   "execution_count": 1,
   "metadata": {
    "collapsed": true
   },
   "outputs": [],
   "source": [
    "import pandas as pd"
   ]
  },
  {
   "cell_type": "code",
   "execution_count": 2,
   "metadata": {
    "collapsed": false
   },
   "outputs": [
    {
     "data": {
      "text/html": [
       "<div>\n",
       "<table border=\"1\" class=\"dataframe\">\n",
       "  <thead>\n",
       "    <tr style=\"text-align: right;\">\n",
       "      <th></th>\n",
       "      <th>J03630_V1_V3</th>\n",
       "      <th>J03631_V1_V3</th>\n",
       "      <th>J03632_V1_V3</th>\n",
       "      <th>J03644_V1_V3</th>\n",
       "      <th>J03630_V1_V9</th>\n",
       "      <th>J03631_V1_V9</th>\n",
       "      <th>J03632_V1_V9</th>\n",
       "      <th>J03644_V1_V9</th>\n",
       "    </tr>\n",
       "    <tr>\n",
       "      <th>Genus</th>\n",
       "      <th></th>\n",
       "      <th></th>\n",
       "      <th></th>\n",
       "      <th></th>\n",
       "      <th></th>\n",
       "      <th></th>\n",
       "      <th></th>\n",
       "      <th></th>\n",
       "    </tr>\n",
       "  </thead>\n",
       "  <tbody>\n",
       "    <tr>\n",
       "      <th>02d06</th>\n",
       "      <td>0.0</td>\n",
       "      <td>7.0</td>\n",
       "      <td>0.0</td>\n",
       "      <td>0.0</td>\n",
       "      <td>0.0</td>\n",
       "      <td>0.0</td>\n",
       "      <td>0.0</td>\n",
       "      <td>0.0</td>\n",
       "    </tr>\n",
       "    <tr>\n",
       "      <th>Adlercreutzia</th>\n",
       "      <td>7.0</td>\n",
       "      <td>0.0</td>\n",
       "      <td>0.0</td>\n",
       "      <td>0.0</td>\n",
       "      <td>0.0</td>\n",
       "      <td>0.0</td>\n",
       "      <td>0.0</td>\n",
       "      <td>0.0</td>\n",
       "    </tr>\n",
       "    <tr>\n",
       "      <th>Akkermansia</th>\n",
       "      <td>1.0</td>\n",
       "      <td>22.0</td>\n",
       "      <td>211.0</td>\n",
       "      <td>566.0</td>\n",
       "      <td>0.0</td>\n",
       "      <td>57.0</td>\n",
       "      <td>776.0</td>\n",
       "      <td>4710.0</td>\n",
       "    </tr>\n",
       "    <tr>\n",
       "      <th>Alistipes</th>\n",
       "      <td>2.0</td>\n",
       "      <td>274.0</td>\n",
       "      <td>149.0</td>\n",
       "      <td>49.0</td>\n",
       "      <td>0.0</td>\n",
       "      <td>474.0</td>\n",
       "      <td>176.0</td>\n",
       "      <td>67.0</td>\n",
       "    </tr>\n",
       "    <tr>\n",
       "      <th>Anaerostipes</th>\n",
       "      <td>0.0</td>\n",
       "      <td>3.0</td>\n",
       "      <td>3.0</td>\n",
       "      <td>11.0</td>\n",
       "      <td>0.0</td>\n",
       "      <td>0.0</td>\n",
       "      <td>0.0</td>\n",
       "      <td>0.0</td>\n",
       "    </tr>\n",
       "  </tbody>\n",
       "</table>\n",
       "</div>"
      ],
      "text/plain": [
       "               J03630_V1_V3  J03631_V1_V3  J03632_V1_V3  J03644_V1_V3  \\\n",
       "Genus                                                                   \n",
       "02d06                   0.0           7.0           0.0           0.0   \n",
       "Adlercreutzia           7.0           0.0           0.0           0.0   \n",
       "Akkermansia             1.0          22.0         211.0         566.0   \n",
       "Alistipes               2.0         274.0         149.0          49.0   \n",
       "Anaerostipes            0.0           3.0           3.0          11.0   \n",
       "\n",
       "               J03630_V1_V9  J03631_V1_V9  J03632_V1_V9  J03644_V1_V9  \n",
       "Genus                                                                  \n",
       "02d06                   0.0           0.0           0.0           0.0  \n",
       "Adlercreutzia           0.0           0.0           0.0           0.0  \n",
       "Akkermansia             0.0          57.0         776.0        4710.0  \n",
       "Alistipes               0.0         474.0         176.0          67.0  \n",
       "Anaerostipes            0.0           0.0           0.0           0.0  "
      ]
     },
     "execution_count": 2,
     "metadata": {},
     "output_type": "execute_result"
    }
   ],
   "source": [
    "# Read in the table... NA values occur for gener that were absent from V1V3 or V1V9 data, but not both. \n",
    "df = pd.read_table('00_data/amp_distance_1.0_genus_correlations.txt', index_col=0)\n",
    "# convert the NA values to 0\n",
    "df = df.fillna(value=0)\n",
    "df.head()"
   ]
  },
  {
   "cell_type": "code",
   "execution_count": 3,
   "metadata": {
    "collapsed": true
   },
   "outputs": [],
   "source": [
    "% load_ext rpy2.ipython"
   ]
  },
  {
   "cell_type": "code",
   "execution_count": 4,
   "metadata": {
    "collapsed": true
   },
   "outputs": [],
   "source": [
    "from rpy2.robjects import pandas2ri\n",
    "pandas2ri.activate()"
   ]
  },
  {
   "cell_type": "code",
   "execution_count": 5,
   "metadata": {
    "collapsed": true
   },
   "outputs": [],
   "source": [
    "%Rpush df"
   ]
  },
  {
   "cell_type": "code",
   "execution_count": 6,
   "metadata": {
    "collapsed": false
   },
   "outputs": [
    {
     "data": {
      "text/plain": [
       "              J03630_V1_V3 J03631_V1_V3 J03632_V1_V3 J03644_V1_V3 J03630_V1_V9\n",
       "02d06                    0            7            0            0            0\n",
       "Adlercreutzia            7            0            0            0            0\n",
       "Akkermansia              1           22          211          566            0\n",
       "Alistipes                2          274          149           49            0\n",
       "Anaerostipes             0            3            3           11            0\n",
       "Bacteroides           3696         2212         1163          812         3560\n",
       "              J03631_V1_V9 J03632_V1_V9 J03644_V1_V9\n",
       "02d06                    0            0            0\n",
       "Adlercreutzia            0            0            0\n",
       "Akkermansia             57          776         4710\n",
       "Alistipes              474          176           67\n",
       "Anaerostipes             0            0            0\n",
       "Bacteroides           4289         1320         1007\n"
      ]
     },
     "metadata": {},
     "output_type": "display_data"
    }
   ],
   "source": [
    "%%R\n",
    "head(df)"
   ]
  },
  {
   "cell_type": "code",
   "execution_count": 15,
   "metadata": {
    "collapsed": false
   },
   "outputs": [
    {
     "data": {
      "text/plain": [
       "\n",
       "\tPearson's product-moment correlation\n",
       "\n",
       "data:  df$J03630_V1_V3 and df$J03630_V1_V9\n",
       "t = 22.09, df = 32, p-value < 2.2e-16\n",
       "alternative hypothesis: true correlation is not equal to 0\n",
       "95 percent confidence interval:\n",
       " 0.9377878 0.9844159\n",
       "sample estimates:\n",
       "      cor \n",
       "0.9687394 \n",
       "\n"
      ]
     },
     "metadata": {},
     "output_type": "display_data"
    }
   ],
   "source": [
    "%%R\n",
    "# Scott\n",
    "cor.test(x=df$J03630_V1_V3, y=df$J03630_V1_V9, method='pearson')"
   ]
  },
  {
   "cell_type": "code",
   "execution_count": 16,
   "metadata": {
    "collapsed": false
   },
   "outputs": [
    {
     "data": {
      "text/plain": [
       "\n",
       "\tPearson's product-moment correlation\n",
       "\n",
       "data:  df$J03631_V1_V3 and df$J03631_V1_V9\n",
       "t = 16.025, df = 32, p-value < 2.2e-16\n",
       "alternative hypothesis: true correlation is not equal to 0\n",
       "95 percent confidence interval:\n",
       " 0.8879627 0.9713833\n",
       "sample estimates:\n",
       "      cor \n",
       "0.9429737 \n",
       "\n"
      ]
     },
     "metadata": {},
     "output_type": "display_data"
    }
   ],
   "source": [
    "%%R\n",
    "# IronHorse\n",
    "cor.test(x=df$J03631_V1_V3, y=df$J03631_V1_V9, method='pearson')"
   ]
  },
  {
   "cell_type": "code",
   "execution_count": 17,
   "metadata": {
    "collapsed": false
   },
   "outputs": [
    {
     "data": {
      "text/plain": [
       "\n",
       "\tPearson's product-moment correlation\n",
       "\n",
       "data:  df$J03632_V1_V3 and df$J03632_V1_V9\n",
       "t = 9.9278, df = 32, p-value = 2.706e-11\n",
       "alternative hypothesis: true correlation is not equal to 0\n",
       "95 percent confidence interval:\n",
       " 0.7514830 0.9329126\n",
       "sample estimates:\n",
       "      cor \n",
       "0.8688512 \n",
       "\n"
      ]
     },
     "metadata": {},
     "output_type": "display_data"
    }
   ],
   "source": [
    "%%R\n",
    "# Commencal\n",
    "cor.test(x=df$J03632_V1_V3, y=df$J03632_V1_V9, method='pearson')"
   ]
  },
  {
   "cell_type": "code",
   "execution_count": 18,
   "metadata": {
    "collapsed": false
   },
   "outputs": [
    {
     "data": {
      "text/plain": [
       "\n",
       "\tPearson's product-moment correlation\n",
       "\n",
       "data:  df$J03644_V1_V3 and df$J03644_V1_V9\n",
       "t = 6.4827, df = 32, p-value = 2.704e-07\n",
       "alternative hypothesis: true correlation is not equal to 0\n",
       "95 percent confidence interval:\n",
       " 0.5573010 0.8699684\n",
       "sample estimates:\n",
       "      cor \n",
       "0.7534681 \n",
       "\n"
      ]
     },
     "metadata": {},
     "output_type": "display_data"
    }
   ],
   "source": [
    "%%R\n",
    "# Breezer\n",
    "cor.test(x=df$J03644_V1_V3, y=df$J03644_V1_V9, method='pearson')"
   ]
  },
  {
   "cell_type": "code",
   "execution_count": null,
   "metadata": {
    "collapsed": true
   },
   "outputs": [],
   "source": []
  }
 ],
 "metadata": {
  "kernelspec": {
   "display_name": "Python 2",
   "language": "python",
   "name": "python2"
  },
  "language_info": {
   "codemirror_mode": {
    "name": "ipython",
    "version": 2
   },
   "file_extension": ".py",
   "mimetype": "text/x-python",
   "name": "python",
   "nbconvert_exporter": "python",
   "pygments_lexer": "ipython2",
   "version": "2.7.10"
  }
 },
 "nbformat": 4,
 "nbformat_minor": 0
}
