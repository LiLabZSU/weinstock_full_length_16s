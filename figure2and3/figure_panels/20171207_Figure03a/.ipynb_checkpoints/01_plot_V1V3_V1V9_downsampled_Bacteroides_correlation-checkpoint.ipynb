{
 "cells": [
  {
   "cell_type": "code",
   "execution_count": 1,
   "metadata": {
    "collapsed": true
   },
   "outputs": [],
   "source": [
    "import pandas as pd"
   ]
  },
  {
   "cell_type": "code",
   "execution_count": 2,
   "metadata": {
    "collapsed": false
   },
   "outputs": [
    {
     "data": {
      "text/html": [
       "<div>\n",
       "<table border=\"1\" class=\"dataframe\">\n",
       "  <thead>\n",
       "    <tr style=\"text-align: right;\">\n",
       "      <th></th>\n",
       "      <th>J03630ds_V1_V3</th>\n",
       "      <th>J03631ds_V1_V3</th>\n",
       "      <th>J03632ds_V1_V3</th>\n",
       "      <th>J03644ds_V1_V3</th>\n",
       "      <th>J03630ds_V1_V9</th>\n",
       "      <th>J03631ds_V1_V9</th>\n",
       "      <th>J03632ds_V1_V9</th>\n",
       "      <th>J03644ds_V1_V9</th>\n",
       "    </tr>\n",
       "    <tr>\n",
       "      <th>Genus</th>\n",
       "      <th></th>\n",
       "      <th></th>\n",
       "      <th></th>\n",
       "      <th></th>\n",
       "      <th></th>\n",
       "      <th></th>\n",
       "      <th></th>\n",
       "      <th></th>\n",
       "    </tr>\n",
       "  </thead>\n",
       "  <tbody>\n",
       "    <tr>\n",
       "      <th>Akkermansia</th>\n",
       "      <td>1.0</td>\n",
       "      <td>22.0</td>\n",
       "      <td>210.0</td>\n",
       "      <td>1.0</td>\n",
       "      <td>0.0</td>\n",
       "      <td>11.0</td>\n",
       "      <td>236.0</td>\n",
       "      <td>1167.0</td>\n",
       "    </tr>\n",
       "    <tr>\n",
       "      <th>Alistipes</th>\n",
       "      <td>0.0</td>\n",
       "      <td>0.0</td>\n",
       "      <td>0.0</td>\n",
       "      <td>0.0</td>\n",
       "      <td>0.0</td>\n",
       "      <td>121.0</td>\n",
       "      <td>57.0</td>\n",
       "      <td>18.0</td>\n",
       "    </tr>\n",
       "    <tr>\n",
       "      <th>Bacteroides</th>\n",
       "      <td>1534.0</td>\n",
       "      <td>1733.0</td>\n",
       "      <td>98.0</td>\n",
       "      <td>408.0</td>\n",
       "      <td>1454.0</td>\n",
       "      <td>993.0</td>\n",
       "      <td>444.0</td>\n",
       "      <td>254.0</td>\n",
       "    </tr>\n",
       "    <tr>\n",
       "      <th>Catenibacterium</th>\n",
       "      <td>0.0</td>\n",
       "      <td>0.0</td>\n",
       "      <td>0.0</td>\n",
       "      <td>18.0</td>\n",
       "      <td>0.0</td>\n",
       "      <td>0.0</td>\n",
       "      <td>0.0</td>\n",
       "      <td>12.0</td>\n",
       "    </tr>\n",
       "    <tr>\n",
       "      <th>Clostridium</th>\n",
       "      <td>101.0</td>\n",
       "      <td>229.0</td>\n",
       "      <td>240.0</td>\n",
       "      <td>45.0</td>\n",
       "      <td>53.0</td>\n",
       "      <td>32.0</td>\n",
       "      <td>0.0</td>\n",
       "      <td>0.0</td>\n",
       "    </tr>\n",
       "  </tbody>\n",
       "</table>\n",
       "</div>"
      ],
      "text/plain": [
       "                 J03630ds_V1_V3  J03631ds_V1_V3  J03632ds_V1_V3  \\\n",
       "Genus                                                             \n",
       "Akkermansia                 1.0            22.0           210.0   \n",
       "Alistipes                   0.0             0.0             0.0   \n",
       "Bacteroides              1534.0          1733.0            98.0   \n",
       "Catenibacterium             0.0             0.0             0.0   \n",
       "Clostridium               101.0           229.0           240.0   \n",
       "\n",
       "                 J03644ds_V1_V3  J03630ds_V1_V9  J03631ds_V1_V9  \\\n",
       "Genus                                                             \n",
       "Akkermansia                 1.0             0.0            11.0   \n",
       "Alistipes                   0.0             0.0           121.0   \n",
       "Bacteroides               408.0          1454.0           993.0   \n",
       "Catenibacterium            18.0             0.0             0.0   \n",
       "Clostridium                45.0            53.0            32.0   \n",
       "\n",
       "                 J03632ds_V1_V9  J03644ds_V1_V9  \n",
       "Genus                                            \n",
       "Akkermansia               236.0          1167.0  \n",
       "Alistipes                  57.0            18.0  \n",
       "Bacteroides               444.0           254.0  \n",
       "Catenibacterium             0.0            12.0  \n",
       "Clostridium                 0.0             0.0  "
      ]
     },
     "execution_count": 2,
     "metadata": {},
     "output_type": "execute_result"
    }
   ],
   "source": [
    "# Read in the table... NA values occur for gener that were absent from V1V3 or V1V9 data, but not both. \n",
    "df = pd.read_table('00_data/ampds_distance_1.0_genus_correlations.txt', index_col=0)\n",
    "# convert the NA values to 0\n",
    "df = df.fillna(value=0)\n",
    "df.head()"
   ]
  },
  {
   "cell_type": "code",
   "execution_count": 3,
   "metadata": {
    "collapsed": false
   },
   "outputs": [
    {
     "data": {
      "text/html": [
       "<div>\n",
       "<table border=\"1\" class=\"dataframe\">\n",
       "  <thead>\n",
       "    <tr style=\"text-align: right;\">\n",
       "      <th></th>\n",
       "      <th>J03630ds_V1_V3</th>\n",
       "      <th>J03631ds_V1_V3</th>\n",
       "      <th>J03632ds_V1_V3</th>\n",
       "      <th>J03644ds_V1_V3</th>\n",
       "      <th>J03630ds_V1_V9</th>\n",
       "      <th>J03631ds_V1_V9</th>\n",
       "      <th>J03632ds_V1_V9</th>\n",
       "      <th>J03644ds_V1_V9</th>\n",
       "    </tr>\n",
       "    <tr>\n",
       "      <th>Genus</th>\n",
       "      <th></th>\n",
       "      <th></th>\n",
       "      <th></th>\n",
       "      <th></th>\n",
       "      <th></th>\n",
       "      <th></th>\n",
       "      <th></th>\n",
       "      <th></th>\n",
       "    </tr>\n",
       "  </thead>\n",
       "  <tbody>\n",
       "    <tr>\n",
       "      <th>Akkermansia</th>\n",
       "      <td>0.016883</td>\n",
       "      <td>0.430276</td>\n",
       "      <td>4.358655</td>\n",
       "      <td>0.025947</td>\n",
       "      <td>0.000000</td>\n",
       "      <td>0.498640</td>\n",
       "      <td>7.632600</td>\n",
       "      <td>45.818610</td>\n",
       "    </tr>\n",
       "    <tr>\n",
       "      <th>Alistipes</th>\n",
       "      <td>0.000000</td>\n",
       "      <td>0.000000</td>\n",
       "      <td>0.000000</td>\n",
       "      <td>0.000000</td>\n",
       "      <td>0.000000</td>\n",
       "      <td>5.485041</td>\n",
       "      <td>1.843467</td>\n",
       "      <td>0.706714</td>\n",
       "    </tr>\n",
       "    <tr>\n",
       "      <th>Bacteroides</th>\n",
       "      <td>25.899038</td>\n",
       "      <td>33.893996</td>\n",
       "      <td>2.034039</td>\n",
       "      <td>10.586404</td>\n",
       "      <td>55.602294</td>\n",
       "      <td>45.013599</td>\n",
       "      <td>14.359638</td>\n",
       "      <td>9.972517</td>\n",
       "    </tr>\n",
       "    <tr>\n",
       "      <th>Catenibacterium</th>\n",
       "      <td>0.000000</td>\n",
       "      <td>0.000000</td>\n",
       "      <td>0.000000</td>\n",
       "      <td>0.467047</td>\n",
       "      <td>0.000000</td>\n",
       "      <td>0.000000</td>\n",
       "      <td>0.000000</td>\n",
       "      <td>0.471143</td>\n",
       "    </tr>\n",
       "    <tr>\n",
       "      <th>Clostridium</th>\n",
       "      <td>1.705217</td>\n",
       "      <td>4.478780</td>\n",
       "      <td>4.981320</td>\n",
       "      <td>1.167618</td>\n",
       "      <td>2.026769</td>\n",
       "      <td>1.450589</td>\n",
       "      <td>0.000000</td>\n",
       "      <td>0.000000</td>\n",
       "    </tr>\n",
       "  </tbody>\n",
       "</table>\n",
       "</div>"
      ],
      "text/plain": [
       "                 J03630ds_V1_V3  J03631ds_V1_V3  J03632ds_V1_V3  \\\n",
       "Genus                                                             \n",
       "Akkermansia            0.016883        0.430276        4.358655   \n",
       "Alistipes              0.000000        0.000000        0.000000   \n",
       "Bacteroides           25.899038       33.893996        2.034039   \n",
       "Catenibacterium        0.000000        0.000000        0.000000   \n",
       "Clostridium            1.705217        4.478780        4.981320   \n",
       "\n",
       "                 J03644ds_V1_V3  J03630ds_V1_V9  J03631ds_V1_V9  \\\n",
       "Genus                                                             \n",
       "Akkermansia            0.025947        0.000000        0.498640   \n",
       "Alistipes              0.000000        0.000000        5.485041   \n",
       "Bacteroides           10.586404       55.602294       45.013599   \n",
       "Catenibacterium        0.467047        0.000000        0.000000   \n",
       "Clostridium            1.167618        2.026769        1.450589   \n",
       "\n",
       "                 J03632ds_V1_V9  J03644ds_V1_V9  \n",
       "Genus                                            \n",
       "Akkermansia            7.632600       45.818610  \n",
       "Alistipes              1.843467        0.706714  \n",
       "Bacteroides           14.359638        9.972517  \n",
       "Catenibacterium        0.000000        0.471143  \n",
       "Clostridium            0.000000        0.000000  "
      ]
     },
     "execution_count": 3,
     "metadata": {},
     "output_type": "execute_result"
    }
   ],
   "source": [
    "# Normalize the data\n",
    "df = df.div(df.sum(axis=0)).multiply(100)\n",
    "df.head()"
   ]
  },
  {
   "cell_type": "code",
   "execution_count": 4,
   "metadata": {
    "collapsed": false
   },
   "outputs": [
    {
     "data": {
      "text/plain": [
       "J03630ds    25.899038\n",
       "J03631ds    33.893996\n",
       "J03632ds     2.034039\n",
       "J03644ds    10.586404\n",
       "Name: V1_V3, dtype: float64"
      ]
     },
     "execution_count": 4,
     "metadata": {},
     "output_type": "execute_result"
    }
   ],
   "source": [
    "# Fetch the V1-V3 reads\n",
    "v1v3 = df.filter(like='V1_V3').loc['Bacteroides',]\n",
    "v1v3.index = [x.split('_')[0] for x in v1v3.index]\n",
    "v1v3.name = 'V1_V3'\n",
    "v1v3"
   ]
  },
  {
   "cell_type": "code",
   "execution_count": 5,
   "metadata": {
    "collapsed": false
   },
   "outputs": [
    {
     "data": {
      "text/plain": [
       "J03630ds    55.602294\n",
       "J03631ds    45.013599\n",
       "J03632ds    14.359638\n",
       "J03644ds     9.972517\n",
       "Name: V1_V9, dtype: float64"
      ]
     },
     "execution_count": 5,
     "metadata": {},
     "output_type": "execute_result"
    }
   ],
   "source": [
    "v1v9 = df.filter(like='V1_V9').loc['Bacteroides',]\n",
    "v1v9.index = [x.split('_')[0] for x in v1v9.index]\n",
    "v1v9.name = 'V1_V9'\n",
    "v1v9"
   ]
  },
  {
   "cell_type": "code",
   "execution_count": 6,
   "metadata": {
    "collapsed": false
   },
   "outputs": [
    {
     "data": {
      "text/html": [
       "<div>\n",
       "<table border=\"1\" class=\"dataframe\">\n",
       "  <thead>\n",
       "    <tr style=\"text-align: right;\">\n",
       "      <th></th>\n",
       "      <th>V1_V9</th>\n",
       "      <th>V1_V3</th>\n",
       "    </tr>\n",
       "  </thead>\n",
       "  <tbody>\n",
       "    <tr>\n",
       "      <th>Scott</th>\n",
       "      <td>55.602294</td>\n",
       "      <td>25.899038</td>\n",
       "    </tr>\n",
       "    <tr>\n",
       "      <th>IronHorse</th>\n",
       "      <td>45.013599</td>\n",
       "      <td>33.893996</td>\n",
       "    </tr>\n",
       "    <tr>\n",
       "      <th>Commencal</th>\n",
       "      <td>14.359638</td>\n",
       "      <td>2.034039</td>\n",
       "    </tr>\n",
       "    <tr>\n",
       "      <th>Breezer</th>\n",
       "      <td>9.972517</td>\n",
       "      <td>10.586404</td>\n",
       "    </tr>\n",
       "  </tbody>\n",
       "</table>\n",
       "</div>"
      ],
      "text/plain": [
       "               V1_V9      V1_V3\n",
       "Scott      55.602294  25.899038\n",
       "IronHorse  45.013599  33.893996\n",
       "Commencal  14.359638   2.034039\n",
       "Breezer     9.972517  10.586404"
      ]
     },
     "execution_count": 6,
     "metadata": {},
     "output_type": "execute_result"
    }
   ],
   "source": [
    "df_b = pd.DataFrame([v1v9, v1v3]).T\n",
    "df_b.index = ['Scott', 'IronHorse', 'Commencal', 'Breezer']\n",
    "df_b"
   ]
  },
  {
   "cell_type": "code",
   "execution_count": 7,
   "metadata": {
    "collapsed": true
   },
   "outputs": [],
   "source": [
    "% load_ext rpy2.ipython"
   ]
  },
  {
   "cell_type": "code",
   "execution_count": 8,
   "metadata": {
    "collapsed": true
   },
   "outputs": [],
   "source": [
    "from rpy2.robjects import pandas2ri\n",
    "pandas2ri.activate()"
   ]
  },
  {
   "cell_type": "code",
   "execution_count": 9,
   "metadata": {
    "collapsed": true
   },
   "outputs": [],
   "source": [
    "%Rpush df_b"
   ]
  },
  {
   "cell_type": "code",
   "execution_count": 10,
   "metadata": {
    "collapsed": false
   },
   "outputs": [
    {
     "name": "stderr",
     "output_type": "stream",
     "text": [
      "/Users/johnsj/apps/apps/Python-2.7.10/lib/python2.7/site-packages/rpy2/rinterface/__init__.py:186: RRuntimeWarning: Find out what's changed in ggplot2 at\n",
      "http://github.com/tidyverse/ggplot2/releases.\n",
      "\n",
      "  warnings.warn(x, RRuntimeWarning)\n"
     ]
    }
   ],
   "source": [
    "%%R\n",
    "library('ggplot2')"
   ]
  },
  {
   "cell_type": "code",
   "execution_count": 12,
   "metadata": {
    "collapsed": false
   },
   "outputs": [
    {
     "data": {
      "image/png": "[encoded data removed]"
     },
     "metadata": {},
     "output_type": "display_data"
    }
   ],
   "source": [
    "%%R \n",
    "pl <- ggplot(df_b, aes(x=V1_V9, y=V1_V3, label=rownames(df_b))) + geom_point() + geom_abline(intercept=0, lty=2)\n",
    "pl <- pl + geom_text(hjust=0, vjust=0)\n",
    "pl <- pl + xlim(0, 100) + ylim(0, 100)\n",
    "pl <- pl + xlab('V1-V9 Bacteroides Abundance (%)')\n",
    "pl <- pl + ylab('V1-V3 Bacteroides Abundance (%)')\n",
    "pl <- pl + theme_bw()\n",
    "pl"
   ]
  },
  {
   "cell_type": "code",
   "execution_count": null,
   "metadata": {
    "collapsed": true
   },
   "outputs": [],
   "source": []
  }
 ],
 "metadata": {
  "kernelspec": {
   "display_name": "Python 2",
   "language": "python",
   "name": "python2"
  },
  "language_info": {
   "codemirror_mode": {
    "name": "ipython",
    "version": 2
   },
   "file_extension": ".py",
   "mimetype": "text/x-python",
   "name": "python",
   "nbconvert_exporter": "python",
   "pygments_lexer": "ipython2",
   "version": "2.7.10"
  }
 },
 "nbformat": 4,
 "nbformat_minor": 0
}
