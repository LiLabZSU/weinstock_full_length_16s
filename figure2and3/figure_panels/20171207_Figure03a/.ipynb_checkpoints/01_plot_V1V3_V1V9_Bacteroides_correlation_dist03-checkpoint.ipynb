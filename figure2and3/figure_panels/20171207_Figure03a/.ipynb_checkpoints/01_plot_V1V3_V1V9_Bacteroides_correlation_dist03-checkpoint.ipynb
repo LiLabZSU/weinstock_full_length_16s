{
 "cells": [
  {
   "cell_type": "code",
   "execution_count": 1,
   "metadata": {
    "collapsed": true
   },
   "outputs": [],
   "source": [
    "import pandas as pd"
   ]
  },
  {
   "cell_type": "code",
   "execution_count": 2,
   "metadata": {
    "collapsed": false
   },
   "outputs": [
    {
     "data": {
      "text/html": [
       "<div>\n",
       "<table border=\"1\" class=\"dataframe\">\n",
       "  <thead>\n",
       "    <tr style=\"text-align: right;\">\n",
       "      <th></th>\n",
       "      <th>J03630_V1_V3</th>\n",
       "      <th>J03631_V1_V3</th>\n",
       "      <th>J03632_V1_V3</th>\n",
       "      <th>J03644_V1_V3</th>\n",
       "      <th>J03630_V1_V9</th>\n",
       "      <th>J03631_V1_V9</th>\n",
       "      <th>J03632_V1_V9</th>\n",
       "      <th>J03644_V1_V9</th>\n",
       "    </tr>\n",
       "    <tr>\n",
       "      <th>Genus</th>\n",
       "      <th></th>\n",
       "      <th></th>\n",
       "      <th></th>\n",
       "      <th></th>\n",
       "      <th></th>\n",
       "      <th></th>\n",
       "      <th></th>\n",
       "      <th></th>\n",
       "    </tr>\n",
       "  </thead>\n",
       "  <tbody>\n",
       "    <tr>\n",
       "      <th>02d06</th>\n",
       "      <td>0.0</td>\n",
       "      <td>7.0</td>\n",
       "      <td>0.0</td>\n",
       "      <td>0.0</td>\n",
       "      <td>0.0</td>\n",
       "      <td>0.0</td>\n",
       "      <td>0.0</td>\n",
       "      <td>0.0</td>\n",
       "    </tr>\n",
       "    <tr>\n",
       "      <th>Adlercreutzia</th>\n",
       "      <td>7.0</td>\n",
       "      <td>0.0</td>\n",
       "      <td>0.0</td>\n",
       "      <td>0.0</td>\n",
       "      <td>0.0</td>\n",
       "      <td>0.0</td>\n",
       "      <td>0.0</td>\n",
       "      <td>0.0</td>\n",
       "    </tr>\n",
       "    <tr>\n",
       "      <th>Akkermansia</th>\n",
       "      <td>1.0</td>\n",
       "      <td>23.0</td>\n",
       "      <td>212.0</td>\n",
       "      <td>571.0</td>\n",
       "      <td>0.0</td>\n",
       "      <td>61.0</td>\n",
       "      <td>791.0</td>\n",
       "      <td>5383.0</td>\n",
       "    </tr>\n",
       "    <tr>\n",
       "      <th>Alistipes</th>\n",
       "      <td>2.0</td>\n",
       "      <td>282.0</td>\n",
       "      <td>153.0</td>\n",
       "      <td>61.0</td>\n",
       "      <td>0.0</td>\n",
       "      <td>751.0</td>\n",
       "      <td>231.0</td>\n",
       "      <td>174.0</td>\n",
       "    </tr>\n",
       "    <tr>\n",
       "      <th>Anaerorhabdus</th>\n",
       "      <td>0.0</td>\n",
       "      <td>0.0</td>\n",
       "      <td>0.0</td>\n",
       "      <td>0.0</td>\n",
       "      <td>0.0</td>\n",
       "      <td>0.0</td>\n",
       "      <td>0.0</td>\n",
       "      <td>4.0</td>\n",
       "    </tr>\n",
       "  </tbody>\n",
       "</table>\n",
       "</div>"
      ],
      "text/plain": [
       "               J03630_V1_V3  J03631_V1_V3  J03632_V1_V3  J03644_V1_V3  \\\n",
       "Genus                                                                   \n",
       "02d06                   0.0           7.0           0.0           0.0   \n",
       "Adlercreutzia           7.0           0.0           0.0           0.0   \n",
       "Akkermansia             1.0          23.0         212.0         571.0   \n",
       "Alistipes               2.0         282.0         153.0          61.0   \n",
       "Anaerorhabdus           0.0           0.0           0.0           0.0   \n",
       "\n",
       "               J03630_V1_V9  J03631_V1_V9  J03632_V1_V9  J03644_V1_V9  \n",
       "Genus                                                                  \n",
       "02d06                   0.0           0.0           0.0           0.0  \n",
       "Adlercreutzia           0.0           0.0           0.0           0.0  \n",
       "Akkermansia             0.0          61.0         791.0        5383.0  \n",
       "Alistipes               0.0         751.0         231.0         174.0  \n",
       "Anaerorhabdus           0.0           0.0           0.0           4.0  "
      ]
     },
     "execution_count": 2,
     "metadata": {},
     "output_type": "execute_result"
    }
   ],
   "source": [
    "# Read in the table... NA values occur for gener that were absent from V1V3 or V1V9 data, but not both. \n",
    "df = pd.read_table('00_data/amp_distance_3.0_genus_correlations.txt', index_col=0)\n",
    "# convert the NA values to 0\n",
    "df = df.fillna(value=0)\n",
    "df.head()"
   ]
  },
  {
   "cell_type": "code",
   "execution_count": 3,
   "metadata": {
    "collapsed": false
   },
   "outputs": [
    {
     "data": {
      "text/html": [
       "<div>\n",
       "<table border=\"1\" class=\"dataframe\">\n",
       "  <thead>\n",
       "    <tr style=\"text-align: right;\">\n",
       "      <th></th>\n",
       "      <th>J03630_V1_V3</th>\n",
       "      <th>J03631_V1_V3</th>\n",
       "      <th>J03632_V1_V3</th>\n",
       "      <th>J03644_V1_V3</th>\n",
       "      <th>J03630_V1_V9</th>\n",
       "      <th>J03631_V1_V9</th>\n",
       "      <th>J03632_V1_V9</th>\n",
       "      <th>J03644_V1_V9</th>\n",
       "    </tr>\n",
       "    <tr>\n",
       "      <th>Genus</th>\n",
       "      <th></th>\n",
       "      <th></th>\n",
       "      <th></th>\n",
       "      <th></th>\n",
       "      <th></th>\n",
       "      <th></th>\n",
       "      <th></th>\n",
       "      <th></th>\n",
       "    </tr>\n",
       "  </thead>\n",
       "  <tbody>\n",
       "    <tr>\n",
       "      <th>02d06</th>\n",
       "      <td>0.000000</td>\n",
       "      <td>0.128558</td>\n",
       "      <td>0.000000</td>\n",
       "      <td>0.000000</td>\n",
       "      <td>0.0</td>\n",
       "      <td>0.000000</td>\n",
       "      <td>0.000000</td>\n",
       "      <td>0.000000</td>\n",
       "    </tr>\n",
       "    <tr>\n",
       "      <th>Adlercreutzia</th>\n",
       "      <td>0.108746</td>\n",
       "      <td>0.000000</td>\n",
       "      <td>0.000000</td>\n",
       "      <td>0.000000</td>\n",
       "      <td>0.0</td>\n",
       "      <td>0.000000</td>\n",
       "      <td>0.000000</td>\n",
       "      <td>0.000000</td>\n",
       "    </tr>\n",
       "    <tr>\n",
       "      <th>Akkermansia</th>\n",
       "      <td>0.015535</td>\n",
       "      <td>0.422406</td>\n",
       "      <td>3.979726</td>\n",
       "      <td>13.502010</td>\n",
       "      <td>0.0</td>\n",
       "      <td>0.384446</td>\n",
       "      <td>5.467994</td>\n",
       "      <td>36.920439</td>\n",
       "    </tr>\n",
       "    <tr>\n",
       "      <th>Alistipes</th>\n",
       "      <td>0.031070</td>\n",
       "      <td>5.179063</td>\n",
       "      <td>2.872161</td>\n",
       "      <td>1.442421</td>\n",
       "      <td>0.0</td>\n",
       "      <td>4.733094</td>\n",
       "      <td>1.596848</td>\n",
       "      <td>1.193416</td>\n",
       "    </tr>\n",
       "    <tr>\n",
       "      <th>Anaerorhabdus</th>\n",
       "      <td>0.000000</td>\n",
       "      <td>0.000000</td>\n",
       "      <td>0.000000</td>\n",
       "      <td>0.000000</td>\n",
       "      <td>0.0</td>\n",
       "      <td>0.000000</td>\n",
       "      <td>0.000000</td>\n",
       "      <td>0.027435</td>\n",
       "    </tr>\n",
       "  </tbody>\n",
       "</table>\n",
       "</div>"
      ],
      "text/plain": [
       "               J03630_V1_V3  J03631_V1_V3  J03632_V1_V3  J03644_V1_V3  \\\n",
       "Genus                                                                   \n",
       "02d06              0.000000      0.128558      0.000000      0.000000   \n",
       "Adlercreutzia      0.108746      0.000000      0.000000      0.000000   \n",
       "Akkermansia        0.015535      0.422406      3.979726     13.502010   \n",
       "Alistipes          0.031070      5.179063      2.872161      1.442421   \n",
       "Anaerorhabdus      0.000000      0.000000      0.000000      0.000000   \n",
       "\n",
       "               J03630_V1_V9  J03631_V1_V9  J03632_V1_V9  J03644_V1_V9  \n",
       "Genus                                                                  \n",
       "02d06                   0.0      0.000000      0.000000      0.000000  \n",
       "Adlercreutzia           0.0      0.000000      0.000000      0.000000  \n",
       "Akkermansia             0.0      0.384446      5.467994     36.920439  \n",
       "Alistipes               0.0      4.733094      1.596848      1.193416  \n",
       "Anaerorhabdus           0.0      0.000000      0.000000      0.027435  "
      ]
     },
     "execution_count": 3,
     "metadata": {},
     "output_type": "execute_result"
    }
   ],
   "source": [
    "# Normalize the data\n",
    "df = df.div(df.sum(axis=0)).multiply(100)\n",
    "df.head()"
   ]
  },
  {
   "cell_type": "code",
   "execution_count": 4,
   "metadata": {
    "collapsed": false
   },
   "outputs": [
    {
     "data": {
      "text/plain": [
       "J03630    62.404847\n",
       "J03631    42.846648\n",
       "J03632    22.526751\n",
       "J03644    20.383069\n",
       "Name: V1_V3, dtype: float64"
      ]
     },
     "execution_count": 4,
     "metadata": {},
     "output_type": "execute_result"
    }
   ],
   "source": [
    "# Fetch the V1-V3 reads\n",
    "v1v3 = df.filter(like='V1_V3').loc['Bacteroides',]\n",
    "v1v3.index = [x.split('_')[0] for x in v1v3.index]\n",
    "v1v3.name = 'V1_V3'\n",
    "v1v3"
   ]
  },
  {
   "cell_type": "code",
   "execution_count": 5,
   "metadata": {
    "collapsed": false
   },
   "outputs": [
    {
     "data": {
      "text/plain": [
       "J03630    61.145973\n",
       "J03631    43.436062\n",
       "J03632    13.210286\n",
       "J03644    11.488340\n",
       "Name: V1_V9, dtype: float64"
      ]
     },
     "execution_count": 5,
     "metadata": {},
     "output_type": "execute_result"
    }
   ],
   "source": [
    "v1v9 = df.filter(like='V1_V9').loc['Bacteroides',]\n",
    "v1v9.index = [x.split('_')[0] for x in v1v9.index]\n",
    "v1v9.name = 'V1_V9'\n",
    "v1v9"
   ]
  },
  {
   "cell_type": "code",
   "execution_count": 6,
   "metadata": {
    "collapsed": false
   },
   "outputs": [
    {
     "data": {
      "text/html": [
       "<div>\n",
       "<table border=\"1\" class=\"dataframe\">\n",
       "  <thead>\n",
       "    <tr style=\"text-align: right;\">\n",
       "      <th></th>\n",
       "      <th>V1_V9</th>\n",
       "      <th>V1_V3</th>\n",
       "    </tr>\n",
       "  </thead>\n",
       "  <tbody>\n",
       "    <tr>\n",
       "      <th>Scott</th>\n",
       "      <td>61.145973</td>\n",
       "      <td>62.404847</td>\n",
       "    </tr>\n",
       "    <tr>\n",
       "      <th>IronHorse</th>\n",
       "      <td>43.436062</td>\n",
       "      <td>42.846648</td>\n",
       "    </tr>\n",
       "    <tr>\n",
       "      <th>Commencal</th>\n",
       "      <td>13.210286</td>\n",
       "      <td>22.526751</td>\n",
       "    </tr>\n",
       "    <tr>\n",
       "      <th>Breezer</th>\n",
       "      <td>11.488340</td>\n",
       "      <td>20.383069</td>\n",
       "    </tr>\n",
       "  </tbody>\n",
       "</table>\n",
       "</div>"
      ],
      "text/plain": [
       "               V1_V9      V1_V3\n",
       "Scott      61.145973  62.404847\n",
       "IronHorse  43.436062  42.846648\n",
       "Commencal  13.210286  22.526751\n",
       "Breezer    11.488340  20.383069"
      ]
     },
     "execution_count": 6,
     "metadata": {},
     "output_type": "execute_result"
    }
   ],
   "source": [
    "df_b = pd.DataFrame([v1v9, v1v3]).T\n",
    "df_b.index = ['Scott', 'IronHorse', 'Commencal', 'Breezer']\n",
    "df_b"
   ]
  },
  {
   "cell_type": "code",
   "execution_count": 7,
   "metadata": {
    "collapsed": true
   },
   "outputs": [],
   "source": [
    "% load_ext rpy2.ipython"
   ]
  },
  {
   "cell_type": "code",
   "execution_count": 8,
   "metadata": {
    "collapsed": true
   },
   "outputs": [],
   "source": [
    "from rpy2.robjects import pandas2ri\n",
    "pandas2ri.activate()"
   ]
  },
  {
   "cell_type": "code",
   "execution_count": 9,
   "metadata": {
    "collapsed": true
   },
   "outputs": [],
   "source": [
    "%Rpush df_b"
   ]
  },
  {
   "cell_type": "code",
   "execution_count": 10,
   "metadata": {
    "collapsed": true
   },
   "outputs": [],
   "source": [
    "%%R\n",
    "library('ggplot2')"
   ]
  },
  {
   "cell_type": "code",
   "execution_count": 11,
   "metadata": {
    "collapsed": false
   },
   "outputs": [
    {
     "data": {
      "image/png": "[encoded data removed]"
     },
     "metadata": {},
     "output_type": "display_data"
    }
   ],
   "source": [
    "%%R \n",
    "pl <- ggplot(df_b, aes(x=V1_V9, y=V1_V3, label=rownames(df_b))) + geom_point() + geom_abline(intercept=0, lty=2)\n",
    "pl <- pl + geom_text(hjust=0, vjust=0)\n",
    "pl <- pl + xlim(5, 75) + ylim(5, 75)\n",
    "pl <- pl + xlab('V1-V9 Bacteroides Abundance (%)')\n",
    "pl <- pl + ylab('V1-V3 Bacteroides Abundance (%)')\n",
    "pl <- pl + theme_bw()\n",
    "pl"
   ]
  },
  {
   "cell_type": "code",
   "execution_count": null,
   "metadata": {
    "collapsed": true
   },
   "outputs": [],
   "source": []
  }
 ],
 "metadata": {
  "kernelspec": {
   "display_name": "Python 2",
   "language": "python",
   "name": "python2"
  },
  "language_info": {
   "codemirror_mode": {
    "name": "ipython",
    "version": 2
   },
   "file_extension": ".py",
   "mimetype": "text/x-python",
   "name": "python",
   "nbconvert_exporter": "python",
   "pygments_lexer": "ipython2",
   "version": "2.7.10"
  }
 },
 "nbformat": 4,
 "nbformat_minor": 0
}
