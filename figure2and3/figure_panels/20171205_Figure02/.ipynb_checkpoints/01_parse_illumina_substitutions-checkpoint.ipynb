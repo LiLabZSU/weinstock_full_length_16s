{
 "cells": [
  {
   "cell_type": "code",
   "execution_count": 1,
   "metadata": {
    "collapsed": true
   },
   "outputs": [],
   "source": [
    "import re"
   ]
  },
  {
   "cell_type": "code",
   "execution_count": 94,
   "metadata": {
    "collapsed": false
   },
   "outputs": [],
   "source": [
    "infile = \"00_data/diaz.hiseq.sort.pileup.proc\""
   ]
  },
  {
   "cell_type": "code",
   "execution_count": 62,
   "metadata": {
    "collapsed": false
   },
   "outputs": [],
   "source": [
    "# Don't try to get into screening out indels... it's complicated...\n",
    "# ... in indels greater than 1, how to account for the exact number?\n",
    "d = \".$,$.,.....,,,.....,..,.,..,..,..,,.,,.,,,,,,,.,,.,,,.,-1a.,,,,,,,.,.,,..,,...,,,,,..,,.,,,..,,..,..,,.,,...,.,,,.,,^].^].\"\n",
    "s = \".TTT......T..TT..TT.TTTTTT.TTT,,TT...T.T.TTTTT....T.TT.t,T....T.TTT.^].-1a.\"\n",
    "i = \".$,$.,.....,,,.....,..,.,..,..,..,,.,,.,,,,,,,.,,.,,,.,+1a.,,,,,,,.,.,,..,,...,,,,,..,,.,,,..,,..,..,,.,,...,.,,,.,,^].^].\"\n",
    "\n",
    "re.search('(?<![\\-\\+][1-9])[ACTGNactgn]', i)"
   ]
  },
  {
   "cell_type": "code",
   "execution_count": 5,
   "metadata": {
    "collapsed": false
   },
   "outputs": [
    {
     "name": "stdout",
     "output_type": "stream",
     "text": [
      "20\t74\t0\t0\t1\t...................................................A......,,.............^].\n",
      "\n",
      "44\t68\t0\t0\t1\t.............................................,,...............T...^].^].\n",
      "\n",
      "52\t68\t0\t0\t1\t..........................................,,..................G.....\n",
      "\n",
      "53\t67\t0\t0\t1\t..........................................,,...T...................\n",
      "\n",
      "79\t69\t0\t0\t47\t.GGG...G.G.G.GGGGGGG.GGGGGG..GGG,gGG.GGGG.GGGGGG.G.GGGG.g,G..G.G.GGG.\n",
      "\n",
      "80\t69\t0\t0\t34\t.AAA.......A..AA..A.AAAAAA.$.AAA,,AA...A.A.AAAAA....A.AA.a,A....A.AAA.\n",
      "\n",
      "89\t69\t0\t0\t35\t.TTT......T..TT..TT.TTTTTT.TTT,,TT...T.T.TTTTT....T.TT.t,T....T.TTT.^].\n",
      "\n",
      "90\t69\t0\t0\t48\t.CCC..C.C.C.CCCCCCC.CCCCCC.CCC,cCCC.CCCC.CCCCCC.C.CCCC.c,C..C.C.CCC..\n",
      "\n",
      "93\t69\t0\t0\t35\t.TTT......T..TT..TT.TTTTTT.TTT,,TT...T.T.TTTTT....T.TT.t,T....T.TTT..\n",
      "\n",
      "110\t59\t0\t0\t1\t....................................A.,,...............,.^].^].\n",
      "\n"
     ]
    }
   ],
   "source": [
    "# Instead make the assumption that $5 is number of substitutions\n",
    "n = 0\n",
    "for line in open(pileup):\n",
    "    if re.search('[ACTGNactgn]', line):\n",
    "        n += 1\n",
    "        print line\n",
    "        \n",
    "    if n >= 10:\n",
    "        break"
   ]
  },
  {
   "cell_type": "code",
   "execution_count": 93,
   "metadata": {
    "collapsed": false
   },
   "outputs": [
    {
     "name": "stdout",
     "output_type": "stream",
     "text": [
      "47\n",
      "34\n",
      "34\n"
     ]
    }
   ],
   "source": [
    "print len(re.findall('G', '.GGG...G.G.G.GGGGGGG.GGGGGG..GGG,gGG.GGGG.GGGGGG.G.GGGG.g,G..G.G.GGG.'.upper()))\n",
    "print len(re.findall('A', '.AAA.......A..AA..A.AAAAAA.$.AAA,,AA...A.A.AAAAA....A.AA.a,A....A.AAA.'.upper()))\n",
    "print len(re.findall('T', '.TTT......T..TT..TT.TTTTTT.TTT,,TT...T.T.TTTTT....T.TT.t,T....T.TTT..'))"
   ]
  },
  {
   "cell_type": "code",
   "execution_count": 96,
   "metadata": {
    "collapsed": false
   },
   "outputs": [
    {
     "name": "stdout",
     "output_type": "stream",
     "text": [
      "727\t113\t0\t1\t0\t.$,$.,.....,,,.....,..,.,..,..,..,,.,,.,,,,,,,.,,.,,,.,-1a.,,,,,,,.,.,,..,,...,,,,,..,,.,,,..,,..,..,,.,,...,.,,,.,,^].^].\n",
      "\n"
     ]
    }
   ],
   "source": [
    "# $5 is 0 when there are deletions but no substitutions\n",
    "for line in open(infile):\n",
    "    if re.search('-[0-9]+[ACGTNacgtn]+', line.split('\\t')[-1]): # , line.split('\\t')[-1]\n",
    "        print line\n",
    "        break"
   ]
  },
  {
   "cell_type": "code",
   "execution_count": 97,
   "metadata": {
    "collapsed": false
   },
   "outputs": [],
   "source": [
    "# There are no insertions\n",
    "for line in open(infile):\n",
    "    if re.search('\\+[0-9]+[ACGTNacgtn]+', line.split('\\t')[-1]): # , line.split('\\t')[-1]\n",
    "        print line\n",
    "        break"
   ]
  },
  {
   "cell_type": "code",
   "execution_count": 100,
   "metadata": {
    "collapsed": false
   },
   "outputs": [],
   "source": [
    "outfile = '01_illumina_substitutions.tsv'\n",
    "\n",
    "with open(outfile, 'w') as outf:\n",
    "    outf.write('Position\\tSubstitutions\\tPanel\\n')\n",
    "    for line in open(infile):\n",
    "        line = line.split('\\t')\n",
    "        position = line[0]\n",
    "        coverage = line[1]\n",
    "        substitutions = line[4]\n",
    "\n",
    "        percent_substitutions = float(substitutions)/float(coverage)\n",
    "        \n",
    "        outf.write('\\t'.join([position, str(percent_substitutions), 'lower']) + '\\n')\n",
    "        "
   ]
  },
  {
   "cell_type": "code",
   "execution_count": null,
   "metadata": {
    "collapsed": true
   },
   "outputs": [],
   "source": []
  }
 ],
 "metadata": {
  "kernelspec": {
   "display_name": "Python 2",
   "language": "python",
   "name": "python2"
  },
  "language_info": {
   "codemirror_mode": {
    "name": "ipython",
    "version": 2
   },
   "file_extension": ".py",
   "mimetype": "text/x-python",
   "name": "python",
   "nbconvert_exporter": "python",
   "pygments_lexer": "ipython2",
   "version": "2.7.10"
  }
 },
 "nbformat": 4,
 "nbformat_minor": 0
}
