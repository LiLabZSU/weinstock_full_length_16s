{
 "cells": [
  {
   "cell_type": "code",
   "execution_count": 1,
   "metadata": {
    "collapsed": true
   },
   "outputs": [],
   "source": [
    "import pandas as pd\n",
    "from rpy2.robjects import pandas2ri\n",
    "pandas2ri.activate()"
   ]
  },
  {
   "cell_type": "code",
   "execution_count": 2,
   "metadata": {
    "collapsed": false
   },
   "outputs": [],
   "source": [
    "%load_ext rpy2.ipython"
   ]
  },
  {
   "cell_type": "code",
   "execution_count": 3,
   "metadata": {
    "collapsed": false
   },
   "outputs": [
    {
     "data": {
      "text/html": [
       "<div>\n",
       "<table border=\"1\" class=\"dataframe\">\n",
       "  <thead>\n",
       "    <tr style=\"text-align: right;\">\n",
       "      <th></th>\n",
       "      <th>Strain</th>\n",
       "      <th>Reference Position</th>\n",
       "      <th>Length</th>\n",
       "      <th>Reference</th>\n",
       "      <th>Allele</th>\n",
       "      <th>Count</th>\n",
       "      <th>Pptn</th>\n",
       "    </tr>\n",
       "  </thead>\n",
       "  <tbody>\n",
       "    <tr>\n",
       "      <th>0</th>\n",
       "      <td>MG1655</td>\n",
       "      <td>79</td>\n",
       "      <td>1.0</td>\n",
       "      <td>A</td>\n",
       "      <td>G</td>\n",
       "      <td>1.0</td>\n",
       "      <td>14.29</td>\n",
       "    </tr>\n",
       "    <tr>\n",
       "      <th>1</th>\n",
       "      <td>MG1655</td>\n",
       "      <td>79</td>\n",
       "      <td>1.0</td>\n",
       "      <td>A</td>\n",
       "      <td>G</td>\n",
       "      <td>4.0</td>\n",
       "      <td>57.14</td>\n",
       "    </tr>\n",
       "    <tr>\n",
       "      <th>2</th>\n",
       "      <td>MG1655</td>\n",
       "      <td>80</td>\n",
       "      <td>1.0</td>\n",
       "      <td>C</td>\n",
       "      <td>A</td>\n",
       "      <td>NaN</td>\n",
       "      <td>57.14</td>\n",
       "    </tr>\n",
       "    <tr>\n",
       "      <th>3</th>\n",
       "      <td>MG1655</td>\n",
       "      <td>89</td>\n",
       "      <td>1.0</td>\n",
       "      <td>G</td>\n",
       "      <td>T</td>\n",
       "      <td>4.0</td>\n",
       "      <td>57.14</td>\n",
       "    </tr>\n",
       "    <tr>\n",
       "      <th>4</th>\n",
       "      <td>MG1655</td>\n",
       "      <td>90</td>\n",
       "      <td>1.0</td>\n",
       "      <td>T</td>\n",
       "      <td>C</td>\n",
       "      <td>5.0</td>\n",
       "      <td>71.40</td>\n",
       "    </tr>\n",
       "  </tbody>\n",
       "</table>\n",
       "</div>"
      ],
      "text/plain": [
       "   Strain  Reference Position  Length Reference Allele  Count   Pptn\n",
       "0  MG1655                  79     1.0         A      G    1.0  14.29\n",
       "1  MG1655                  79     1.0         A      G    4.0  57.14\n",
       "2  MG1655                  80     1.0         C      A    NaN  57.14\n",
       "3  MG1655                  89     1.0         G      T    4.0  57.14\n",
       "4  MG1655                  90     1.0         T      C    5.0  71.40"
      ]
     },
     "execution_count": 3,
     "metadata": {},
     "output_type": "execute_result"
    }
   ],
   "source": [
    "# read the (slightly modified) data into python...\n",
    "df = pd.read_excel('00_data/Ecoli_16SrRNA_MG1655vSakai_MG1655rrsDref_edited.xlsx', sheetname='Sheet2')\n",
    "df.head()"
   ]
  },
  {
   "cell_type": "code",
   "execution_count": 4,
   "metadata": {
    "collapsed": true
   },
   "outputs": [],
   "source": [
    "# Parse the data into the form used for the pb and il data... \n",
    "df_mg = df[df['Strain'] == 'MG1655']\n",
    "df_sk = df[df['Strain'] == 'Sakai']\n",
    "\n",
    "mg_dict = {}\n",
    "for row in df_mg.iterrows():\n",
    "    p = str(row[1]['Reference Position'])\n",
    "    pptn = float(row[1]['Pptn'])\n",
    "    mg_dict[p] = pptn\n",
    "\n",
    "\n",
    "sk_dict = {}\n",
    "for row in df_sk.iterrows():\n",
    "    p = str(row[1]['Reference Position'])\n",
    "    pptn = float(row[1]['Pptn'])\n",
    "    sk_dict[p] = pptn\n",
    "    \n",
    "for i in range(1, 1573):\n",
    "    i = str(i)\n",
    "    if i not in mg_dict.keys():\n",
    "        mg_dict[i] = 0.0\n",
    "        \n",
    "    if i not in sk_dict.keys():\n",
    "        sk_dict[i] = 0.0\n"
   ]
  },
  {
   "cell_type": "code",
   "execution_count": 5,
   "metadata": {
    "collapsed": false
   },
   "outputs": [
    {
     "data": {
      "text/html": [
       "<div>\n",
       "<table border=\"1\" class=\"dataframe\">\n",
       "  <thead>\n",
       "    <tr style=\"text-align: right;\">\n",
       "      <th></th>\n",
       "      <th>Position</th>\n",
       "      <th>Substitutions</th>\n",
       "      <th>Panel</th>\n",
       "    </tr>\n",
       "  </thead>\n",
       "  <tbody>\n",
       "    <tr>\n",
       "      <th>0</th>\n",
       "      <td>1</td>\n",
       "      <td>-0.0</td>\n",
       "      <td>Sakai</td>\n",
       "    </tr>\n",
       "    <tr>\n",
       "      <th>1</th>\n",
       "      <td>2</td>\n",
       "      <td>-0.0</td>\n",
       "      <td>Sakai</td>\n",
       "    </tr>\n",
       "    <tr>\n",
       "      <th>2</th>\n",
       "      <td>3</td>\n",
       "      <td>-0.0</td>\n",
       "      <td>Sakai</td>\n",
       "    </tr>\n",
       "    <tr>\n",
       "      <th>3</th>\n",
       "      <td>4</td>\n",
       "      <td>-0.0</td>\n",
       "      <td>Sakai</td>\n",
       "    </tr>\n",
       "    <tr>\n",
       "      <th>4</th>\n",
       "      <td>5</td>\n",
       "      <td>-0.0</td>\n",
       "      <td>Sakai</td>\n",
       "    </tr>\n",
       "  </tbody>\n",
       "</table>\n",
       "</div>"
      ],
      "text/plain": [
       "   Position  Substitutions  Panel\n",
       "0         1           -0.0  Sakai\n",
       "1         2           -0.0  Sakai\n",
       "2         3           -0.0  Sakai\n",
       "3         4           -0.0  Sakai\n",
       "4         5           -0.0  Sakai"
      ]
     },
     "execution_count": 5,
     "metadata": {},
     "output_type": "execute_result"
    }
   ],
   "source": [
    "# Create dataframes\n",
    "mg = pd.DataFrame(pd.Series(mg_dict))\n",
    "mg.index = [int(x) for x in mg.index]\n",
    "mg = mg.sort_index()\n",
    "mg.reset_index(inplace=True)\n",
    "mg.columns = ['Position', 'Substitutions']\n",
    "mg['Panel'] = 'MG1655'\n",
    "mg.head()\n",
    "\n",
    "# Create dataframes\n",
    "sk = pd.DataFrame(pd.Series(sk_dict))\n",
    "sk.index = [int(x) for x in sk.index]\n",
    "sk = sk.sort_index()\n",
    "sk.reset_index(inplace=True)\n",
    "sk.columns = ['Position', 'Substitutions']\n",
    "sk['Panel'] = 'Sakai'\n",
    "sk['Substitutions'] = -1*sk['Substitutions']\n",
    "sk.head()"
   ]
  },
  {
   "cell_type": "code",
   "execution_count": 6,
   "metadata": {
    "collapsed": false
   },
   "outputs": [
    {
     "name": "stdout",
     "output_type": "stream",
     "text": [
      "1572\n",
      "1572\n",
      "3144\n"
     ]
    }
   ],
   "source": [
    "df = pd.concat([mg, sk])\n",
    "print len(mg.index)\n",
    "print len(sk.index)\n",
    "print len(df)"
   ]
  },
  {
   "cell_type": "code",
   "execution_count": 7,
   "metadata": {
    "collapsed": true
   },
   "outputs": [],
   "source": [
    "%Rpush df"
   ]
  },
  {
   "cell_type": "code",
   "execution_count": 8,
   "metadata": {
    "collapsed": true
   },
   "outputs": [],
   "source": [
    "%%R\n",
    "library('ggplot2')"
   ]
  },
  {
   "cell_type": "code",
   "execution_count": 9,
   "metadata": {
    "collapsed": false
   },
   "outputs": [
    {
     "data": {
      "image/png": "[encoded data removed]"
     },
     "metadata": {},
     "output_type": "display_data"
    }
   ],
   "source": [
    "%%R\n",
    "df$Substitutions = df$Substitutions/100\n",
    "\n",
    "###################################################################################################\n",
    "## Plot the panel figure\n",
    "plt <- ggplot(df, aes(x=Position, y=Substitutions)) + geom_line()\n",
    "plt <- plt + theme_bw()\n",
    "plt <- plt + theme(panel.grid = element_blank())\n",
    "plt <- plt + ggtitle('Escherichia coli') + xlab('') + ylab('')\n",
    "plt"
   ]
  },
  {
   "cell_type": "code",
   "execution_count": 10,
   "metadata": {
    "collapsed": true
   },
   "outputs": [],
   "source": [
    "df.to_csv('04_mg1655_vs_sakai_counts.tsv', sep='\\t')"
   ]
  },
  {
   "cell_type": "code",
   "execution_count": 42,
   "metadata": {
    "collapsed": false
   },
   "outputs": [
    {
     "data": {
      "image/png": "[encoded data removed]"
     },
     "metadata": {},
     "output_type": "display_data"
    }
   ],
   "source": [
    "%%R\n",
    "plt <- plt + ylim(c(-1.2, 1.2))\n",
    "\n",
    "# parameters\n",
    "# region title offset\n",
    "n = 0.01\n",
    "# region title alpha\n",
    "ra=0.8\n",
    "# region title colour\n",
    "rc='dark grey'\n",
    "# panel alpha\n",
    "pa=0.2\n",
    "#panel colour\n",
    "pc='grey'\n",
    "#amplicon colour\n",
    "ac = 'dark red'\n",
    "\n",
    "\n",
    "\n",
    "# add colour panels\n",
    "plt <- plt + annotate('rect', xmin=9, xmax=104, ymin=-1, ymax=1, fill=pc, alpha=pa)\n",
    "plt <- plt + annotate('rect', xmin=103, xmax=249, ymin=-1, ymax=1, fill=pc, alpha=pa)\n",
    "plt <- plt + annotate('rect', xmin=341, xmax=515, ymin=-1, ymax=1, fill=pc, alpha=pa)\n",
    "plt <- plt + annotate('rect', xmin=514, xmax=685, ymin=-1, ymax=1, fill=pc, alpha=pa)\n",
    "plt <- plt + annotate('rect', xmin=778, xmax=909, ymin=-1, ymax=1, fill=pc, alpha=pa)\n",
    "plt <- plt + annotate('rect', xmin=968, xmax=1061, ymin=-1, ymax=1, fill=pc, alpha=pa)\n",
    "plt <- plt + annotate('rect', xmin=1098, xmax=1177, ymin=-1, ymax=1, fill=pc, alpha=pa)\n",
    "plt <- plt + annotate('rect', xmin=1222, xmax=1370, ymin=-1, ymax=1, fill=pc, alpha=pa)\n",
    "plt <- plt + annotate('rect', xmin=1377, xmax=1492, ymin=-1, ymax=1, fill=pc, alpha=pa)\n",
    "\n",
    "plt <- plt + xlab('Position along 16S gene') + ylab('Percent Substitutions')\n",
    "\n",
    "# add individual bars\n",
    "#V1\n",
    "plt <- plt + annotate('segment', x=9, xend=104, y=1, yend=1, colour=rc, alpha=ra)\n",
    "plt <- plt + annotate('text', x=9 + (104-9)/2, y=1+n, label='V1', cex=3)\n",
    "#V2\n",
    "plt <- plt + annotate('segment', x=103, xend=249, y=1+n, yend=1+n, colour=rc, alpha=ra)\n",
    "plt <- plt + annotate('text', x=103 + (249-103)/2, y=1+n+n, label='V2', cex=3)\n",
    "#V3\n",
    "plt <- plt + annotate('segment', x=341, xend=515, y=1, yend=1, colour=rc, alpha=ra)\n",
    "plt <- plt + annotate('text', x=341 + (515-341)/2, y=1+n, label='V3', cex=3)\n",
    "#V4\n",
    "plt <- plt + annotate('segment', x=514, xend=685, y=1+n, yend=1+n, colour=rc, alpha=ra)\n",
    "plt <- plt + annotate('text', x=514 + (685-514)/2, y=1+n+n, label='V4', cex=3)\n",
    "#V5\n",
    "plt <- plt + annotate('segment', x=778, xend=909, y=1, yend=1, colour=rc, alpha=ra)\n",
    "plt <- plt + annotate('text', x=778 + (909-778)/2, y=1+n, label='V5', cex=3)\n",
    "#V6\n",
    "plt <- plt + annotate('segment', x=968, xend=1061, y=1+n, yend=1+n, colour=rc, alpha=ra)\n",
    "plt <- plt + annotate('text', x=968 + (1061-968)/2, y=1+n+n, label='V6', cex=3)\n",
    "#V7\n",
    "plt <- plt + annotate('segment', x=1098, xend=1177, y=1, yend=1, colour=rc, alpha=ra)\n",
    "plt <- plt + annotate('text', x=1098 + (1177-1098)/2, y=1+n, label='V7', cex=3)\n",
    "#V8\n",
    "plt <- plt + annotate('segment', x=1222, xend=1370, y=1+n, yend=1+n, colour=rc, alpha=ra)\n",
    "plt <- plt + annotate('text', x=1222 + (1370-1222)/2, y=1+n+n, label='V8', cex=3)\n",
    "#V9\n",
    "plt <- plt + annotate('segment', x=1377, xend=1495, y=1, yend=1, colour=rc, alpha=ra)\n",
    "plt <- plt + annotate('text', x=1377 + (1492-1377)/2, y=1+n, label='V9', cex=3)\n",
    "plt\n",
    "\n"
   ]
  },
  {
   "cell_type": "code",
   "execution_count": 43,
   "metadata": {
    "collapsed": false
   },
   "outputs": [
    {
     "data": {
      "text/plain": [
       "quartz_off_screen \n",
       "                2 \n"
      ]
     },
     "metadata": {},
     "output_type": "display_data"
    }
   ],
   "source": [
    "%%R\n",
    "pdf('mg1655_vs_sakai_substitutions.pdf', height=3, width=3.5)\n",
    "plot(plt)\n",
    "dev.off()"
   ]
  }
 ],
 "metadata": {
  "kernelspec": {
   "display_name": "Python 2",
   "language": "python",
   "name": "python2"
  },
  "language_info": {
   "codemirror_mode": {
    "name": "ipython",
    "version": 2
   },
   "file_extension": ".py",
   "mimetype": "text/x-python",
   "name": "python",
   "nbconvert_exporter": "python",
   "pygments_lexer": "ipython2",
   "version": "2.7.10"
  }
 },
 "nbformat": 4,
 "nbformat_minor": 0
}
